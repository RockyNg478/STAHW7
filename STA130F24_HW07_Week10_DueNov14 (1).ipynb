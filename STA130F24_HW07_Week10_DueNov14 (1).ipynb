{
 "cells": [
  {
   "cell_type": "markdown",
   "id": "921ec13f",
   "metadata": {},
   "source": [
    "https://chatgpt.com/share/67340112-04e8-8002-9c62-29f982dac3e7"
   ]
  },
  {
   "cell_type": "markdown",
   "id": "d66d4cf7",
   "metadata": {},
   "source": [
    "# STA130 Homework 07\n",
    "\n",
    "Please see the course [wiki-textbook](https://github.com/pointOfive/stat130chat130/wiki) for the list of topics covered in this homework assignment, and a list of topics that might appear during ChatBot conversations which are \"out of scope\" for the purposes of this homework assignment (and hence can be safely ignored if encountered)\n"
   ]
  },
  {
   "cell_type": "markdown",
   "id": "2e2c467d",
   "metadata": {},
   "source": [
    "<details class=\"details-example\"><summary style=\"color:blue\"><u>Introduction</u></summary>\n",
    "\n",
    "### Introduction\n",
    "    \n",
    "A reasonable characterization of STA130 Homework is that it simply defines a weekly reading comprehension assignment. \n",
    "Indeed, STA130 Homework essentially boils down to completing various understanding confirmation exercises oriented around coding and writing tasks.\n",
    "However, rather than reading a textbook, STA130 Homework is based on ChatBots so students can interactively follow up to clarify questions or confusion that they may still have regarding learning objective assignments.\n",
    "\n",
    "> Communication is a fundamental skill underlying statistics and data science, so STA130 Homework based on ChatBots helps practice effective two-way communication as part of a \"realistic\" dialogue activity supporting underlying conceptual understanding building. \n",
    "\n",
    "It will likely become increasingly tempting to rely on ChatBots to \"do the work for you\". But when you find yourself frustrated with a ChatBots inability to give you the results you're looking for, this is a \"hint\" that you've become overreliant on the ChatBots. Your objective should not be to have ChatBots \"do the work for you\", but to use ChatBots to help you build your understanding so you can efficiently leverage ChatBots (and other resources) to help you work more efficiently.<br><br>\n",
    "\n",
    "</details>\n",
    "\n",
    "<details class=\"details-example\"><summary style=\"color:blue\"><u>Instructions</u></summary>\n",
    "\n",
    "### Instructions\n",
    "    \n",
    "1. Code and write all your answers (for both the \"Pre-lecture\" and \"Post-lecture\" HW) in a python notebook (in code and markdown cells) \n",
    "    \n",
    "> It is *suggested but not mandatory* that you complete the \"Pre-lecture\" HW prior to the Monday LEC since (a) all HW is due at the same time; but, (b) completing some of the HW early will mean better readiness for LEC and less of a \"procrastentation cruch\" towards the end of the week...\n",
    "    \n",
    "2. Paste summaries of your ChatBot sessions (including link(s) to chat log histories if you're using ChatGPT) within your notebook\n",
    "    \n",
    "> Create summaries of your ChatBot sessions by using concluding prompts such as \"Please provide a summary of our exchanges here so I can submit them as a record of our interactions as part of a homework assignment\" or, \"Please provide me with the final working verson of the code that we created together\"\n",
    "    \n",
    "3. Save your python jupyter notebook in your own account and \"repo\" on [github.com](github.com) and submit a link to that notebook though Quercus for assignment marking<br><br>\n",
    "\n",
    "</details>\n",
    "\n",
    "<details class=\"details-example\"><summary style=\"color:blue\"><u>Prompt Engineering?</u></summary>\n",
    "    \n",
    "### Prompt Engineering? \n",
    "    \n",
    "The questions (as copy-pasted prompts) are designed to initialize appropriate ChatBot conversations which can be explored in the manner of an interactive and dynamic textbook; but, it is nonetheless **strongly recommendated** that your rephrase the questions in a way that you find natural to ensure a clear understanding of the question. Given sensible prompts the represent a question well, the two primary challenges observed to arise from ChatBots are \n",
    "\n",
    "1. conversations going beyond the intended scope of the material addressed by the question; and, \n",
    "2. unrecoverable confusion as a result of sequential layers logial inquiry that cannot be resolved. \n",
    "\n",
    "In the case of the former (1), adding constraints specifying the limits of considerations of interest tends to be helpful; whereas, the latter (2) is often the result of initial prompting that leads to poor developments in navigating the material, which are likely just best resolve by a \"hard reset\" with a new initial approach to prompting.  Indeed, this is exactly the behavior [hardcoded into copilot](https://answers.microsoft.com/en-us/bing/forum/all/is-this-even-normal/0b6dcab3-7d6c-4373-8efe-d74158af3c00)...\n",
    "\n",
    "</details>"
   ]
  },
  {
   "cell_type": "markdown",
   "id": "b6f84f1d",
   "metadata": {},
   "source": [
    "\n",
    "### Marking Rubric (which may award partial credit) \n",
    "\n",
    "- [0.1 points]: All relevant ChatBot summaries [including link(s) to chat log histories if you're using ChatGPT] are reported within the notebook\n",
    "- [0.3 points]: Well-communicated, clear demonstration of the \"model building\" process and techniques of \"Question 4\"\n",
    "- [0.3 points]: Well-communicated, clear demonstration of the \"model building\" process and techniques of \"Question 7\"\n",
    "- [0.3 points]: Well-communicated, clear demonstration of the \"model building\" process and techniques of \"Question 9\"\n"
   ]
  },
  {
   "cell_type": "markdown",
   "id": "ed7ef03a",
   "metadata": {},
   "source": [
    "## \"Pre-lecture\" HW [*completion prior to next LEC is suggested but not mandatory*]\n"
   ]
  },
  {
   "cell_type": "markdown",
   "id": "aaf63d8b",
   "metadata": {},
   "source": [
    "### 1. Explain succinctly in your own words (but working with a ChatBot if needed)...<br>\n",
    "\n",
    "1. the difference between **Simple Linear Regression** and **Multiple Linear Regression**; and the benefit the latter provides over the former\n",
    "\n",
    "\n",
    "2. the difference between using a **continuous variable** and an **indicator variable** in **Simple Linear Regression**; and these two **linear forms**\n",
    "\n",
    "\n",
    "3. the change that happens in the behavior of the model (i.e., the expected nature of the data it models) when a single **indicator variable** is introduced alongside a **continuous variable** to create a **Multiple Linear Regression**; and these two **linear forms** (i.e., the **Simple Linear Regression** versus the **Multiple Linear Regression**)\n",
    "\n",
    "\n",
    "4. the effect of adding an **interaction** between a **continuous** and an **indicator variable** in **Multiple Linear Regression** models; and this **linear form**\n",
    "\n",
    "\n",
    "5. the behavior of a **Multiple Linear Regression** model (i.e., the expected nature of the data it models) based only on **indicator variables** derived from a **non-binary categorical variable**; this **linear form**; and the necessarily resulting **binary variable encodings** it utilizes\n",
    "       \n",
    "<details class=\"details-example\"><summary style=\"color:blue\"><u>Further Guidance</u></summary>\n",
    "\n",
    "> _The requested **linear forms** are **equations**, and answers must include **equations** along with the explanations that interpret the **linear forms**. Write you **linear forms** using a style something like_\n",
    "> \n",
    "> - _\"outcome = $\\beta_0$ + $\\beta_A$ predictorA + $\\beta_B$ 1(predictorB)\"_ \n",
    "> - _where the \"1(.)\" notation is for indicator variables_ \n",
    "> - _or feel free to use an similar alternative if a ChatBot provides you with another notation you think is clearer and like better if you prefer_\n",
    ">\n",
    "> _DO INCLUDE the **intercept** in your **linear forms**. You don't have to include notation related to the **error** term since this is essentially always assumed (and, actually, we usually don't even bother to include the **intercept** in such shorthand specifications either, for the same reason), but don't forget to include the **intercept** here this time (for practice). The modeling **assumptions** do not need to be addressed beyond this, but explanations will likely address the number of variables and the essential use-case (perhaps illustrated through examples) the different models imply._    \n",
    "> \n",
    "> _Answers to the final question above should address the notion of a \"baseline\" group and it's role for **model interpretation**, why \"number of categories minus one\" **indicator variables** are used to represent the original **categorical variable**, and the relationship between the **binary** and **categorical variables** that are relevant for this model specification. An example use-case would likely be helpful for illustration here._ \n",
    ">    \n",
    "> ---\n",
    "> \n",
    "> _Don't forget to ask for summaries of all your different ChatBot sessions and organize and paste these into your homework notebook (including link(s) to chat log histories if you're using ChatBot); but, if you're using the STA130 custom NBLM ChatBot, you'll only be able to ask for summaries, of course!_ \n",
    "    \n",
    "</details> "
   ]
  },
  {
   "cell_type": "markdown",
   "id": "6a781515",
   "metadata": {},
   "source": [
    "## 1.\n",
    "\n",
    "### 1.The difference between Simple Linear Regression and Multiple Linear Regression; and the benefit the latter provides over the former\n",
    "\n",
    "Simple linear regression involves modeling the relationship between two variables: one independent variable which is the predictor and one dependent variable which is the response. The forumula for the simple linear regression is just y = B0 + B1x + e. While the multiple linear regression is the extension version of the simple linear regression model by combining two or more independent variables to predict the dependent variable THe formula of the multiple linear regression is y = B0 + B1x1 + B2x2 + ... + Bnxn + e, as you can see from the formula, its made with different independent variables and coefficients for each predictor, thats why its different with the simple linear regression. The benefits of multiple linear regression over simple linear regression is that it can be able to work on multiple factors that may impact th response variabe, allowing for a more accruate outcome. Also, by considering more relevant predictors, the model's predictions are idealymuch more accurate because it considers more of the variation among the variables. \n",
    "\n",
    "### 2. The difference between using a continuous variable and an indicator variable in Simple Linear Regression; and these two linear forms\n",
    "\n",
    "There are several differences between using a continuous variable and an indicator variable in simple linear regression, such as the types of indicator, where continuos variable is using numerica values, and the other one is using binary numbers, for the coeffitcients the Con. variable is using the slopes and the indicator variable is using the differenve in y between groups x = 1 and x = 0. Meanwhile, the fronter is using for modeling a trend across a range ov values, and former is using for modeling the effect of group membership. The continuous variable is used for predicting with numeric variables, and the indicator variable is used for comparing two groups or categories. \n",
    "\n",
    "### 3. The change that happens in the behavior of the model (i.e., the expected nature of the data it models) when a single indicator variable is introduced alongside a continuous variable to create a Multiple Linear Regression; and these two linear forms (i.e., the Simple Linear Regression versus the Multiple Linear Regression)\n",
    "\n",
    "When a single indicator variable is ibtroduced alongside a continuous variable in a regression model, we transfer from a simple linear regression to a multiple linear regression model, which allows us to examine for both a continuous effect respectively. Likewise, the slop for the simple regression captures the increases or decreases in the x values. For the multiple linear regression with a continuous and an indicator variable, it introduces the indicator variable x2 to split the data into 2 groups: x2 = 0 and x2 = 1, the model also has two parallel regression lines, and these lines have the same slope but different in intercepts, which means that it indicates the group differences in the response variable while still allowing the continuous predictor to affect the response among each group.\n",
    "\n",
    "### 4. The effect of adding an interaction between a continuous and an indicator variable in Multiple Linear Regression models; and this linear form\n",
    "\n",
    "When we add an interaction term between a continuos variable and an indicator variable in a multiple linear regression model, we can observe the effect of the continuous predictor on the response variable to make a difference between the two groups that defined by the indicator variable, which means that the slope of the relationship between the continuous predictor and the response variable can vary based on the category represented by the indicator variable. The effects of the interaction are that could be creating two new equations, while one for the baseline group x2 = 0, and for the other group x2 = 1, where the intercept for the x2 = 1 group is B0 + B2, showing how the starting value oif y is different between the groups when x1 = 0, also the slope for the x2 = 1 group is B1 + B3, where the interaction term B3 indicates how the effect of x1 on y isdifferent between the x2 = 0 and x2 = 1 groups.\n",
    "\n",
    "### 5. The behavior of a Multiple Linear Regression model (i.e., the expected nature of the data it models) based only on indicator variables derived from a non-binary categorical variable; this linear form; and the necessarily resulting binary variable encodings it utilizes\n",
    "\n",
    "The model indicates the differences in the outcoe variable based on purely on categorical group membership. While for the baseline group, the intercept B0 represents the expected value of y for the baseline category. Which all other effects are interpreted relative to the baseline. In the other hand, each coefficient measurs the differene in the response variable from the baseline cetegory to each of the other categories. "
   ]
  },
  {
   "cell_type": "markdown",
   "id": "8cc155a4",
   "metadata": {},
   "source": [
    "### 2. Explain in your own words (but working with a ChatBot if needed) what the specific (outcome and predictor) variables are for the scenario below; whether or not any meaningful interactions might need to be taken into account when predicting the outcome; and provide the linear forms with and without the potential interactions that might need to be considered<br>\n",
    "\n",
    "> Imagine a company that sells sports equipment. The company runs advertising campaigns on TV and online platforms. The effectiveness of the TV ad might depend on the amount spent on online advertising and vice versa, leading to an interaction effect between the two advertising mediums.    \n",
    "\n",
    "1. Explain how to use these two formulas to make **predictions** of the **outcome**, and give a high level explaination in general terms of the difference between **predictions** from the models with and without the **interaction** \n",
    "\n",
    "2. Explain how to update and use the implied two formulas to make predictions of the outcome if, rather than considering two continuous predictor variables, we instead suppose the advertisement budgets are simply categorized as either \"high\" or \"low\" (binary variables)    \n",
    "    \n",
    "<details class=\"details-example\"><summary style=\"color:blue\"><u>Further Guidance</u></summary>\n",
    "\n",
    "> _While working on this question, it's important to clearly understand the (**outcome** and **predictor**) **variables** under consideration, and they way they are being considered. Similarly to the previous (first) question of this homework assignment, this question requires the **equations** of the indicated **linear forms** and an explanation of their **interpretation** and use. What is different here is that the **interactions** being considered are between two **continuous variables** or two **binary variables** (for a total of four **equations** under consideration where two include the **interactions** and two do not)._\n",
    ">\n",
    "> _The way an **interaction** actually appears and works in the context of the linear form of a **multiple linear regression** model may not necessarily be immediately intuitive, as it is actually in fact somewhat subtle and tricky. Of course, an **interaction** is when the relationship of one **predictor variable** with the **outcome variable** depends on the value of another different **predictor variable**, so the impact of one **predictor variable** changes based on the presence or magnitude of another **predictor variable**. But are you sure you know what this means in the context of the **linear form** of a **multiple linear regression** model?_\n",
    ">\n",
    "> - _Imagine you're selling smoothies, the taste of your smoothie depends on the ingredients included in the smoothie, and there are two ingredients (bananas and strawberries) in the smoothie._\n",
    ">     - _Adding more bananas into the smoothie will of course increase the \"banana\" flavor of the smoothie, and vice-versa for strawberries..._\n",
    ">     - _But is this \"banana\" influence on the flavor always constant, or can it change depending on the absolute amount of strawberries in the smoothie?_ \n",
    ">     - _If the \"banana\" flavor influence is constant and does not depend on the  absolute amount of strawberries in the smoothie, then there is no **interaction** and the **linear form** of the model is $\\beta_b b_i + \\beta_s s_i$ and the model is said to be only **additive**._\n",
    ">     - _But if the \"banana\" flavor influence does depend on the absolute amount of strawberries in the smoothie, then there IS an **interaction** and the **linear form** of the model is $\\beta_b b_i + \\beta_s s_i + \\beta_{bs} (b_i\\times s_i)$ and the model is said to be **synergistic**._\n",
    ">         \n",
    "> _These **linear forms** show that either bananas and strawberries do not have any **synergistic interaction** and contribute to the flavor independently; or, they do have a **synergistic interaction** and there is an interesting interplay between bananas and strawberries in the way they influence the taste of the smoothie._ \n",
    "> \n",
    "> - _So, if there is no **interaction**, then the effect of adding more bananas on the taste of the smoothie will always be the same, no matter how many strawberries you put in. So the effect of bananas on the smoothie is the same whether you add a lot of strawberries or just a few: $\\beta_b b_i + \\beta_s s_i$_\n",
    "> - _Or, on the other hand, if there is an **interaction**, then the effect of adding bananas (on the smootie flavor) will be different depending on how many strawberries there currently are in the smoothie: $\\beta_b b_i + \\beta_s s_i + \\beta_{bs} (b_i\\times s_i)$_\n",
    "> \n",
    "> _In this case, the right answer is probably that the **linear form** with the **interaction** is correct. This is because the flavor probably depends on the relative amount of bananas and strawberries in the smoothie; so, the effect of adding a fixed amount of bananas to the smoothie probalby depends on the absolute amount of strawberries that are in the smoothie._\n",
    "> \n",
    "> _Again, because understanding **interactions** in the context of **linear forms** is somewhat subtle and tricky and indeed not necessarily obviously intuitive, let's think about this a bit more. And we can simplify the concept a little bit by considering how this **interaction** would actually technically work in a **linear form** if we just had **binary indicator variables**._\n",
    ">         \n",
    "> - _To consider the smootie example in terms of binary variables, suppose that if both fruits are added to the smootie, they will be added in the same amount. So the smoothie will be made with either just bananas, just strawberries, or both (or neither and you won't make a smoothie)._ \n",
    ">     - _The question regarding an **interaction** then is, is the influence of the ingredients on the taste of the smoothie **additive** or **synergistic**? That is, does the way bananas affects the flavor of the smoothie change depending on the inclusion or exclusion of strawberries in the smoothie?_\n",
    ">     - _**Additive** $\\beta_b 1_{[b_i=1]}(b_i) + \\beta_s 1_{[s_i=1]}(s_i)$ means there are three different flavors but they are explained by just two **parameters**: banana $\\beta_b$, strawberry $\\beta_s$, and banana-strawberry $\\beta_b+\\beta_s$_\n",
    ">     - _**Synergistic** $\\beta_b 1_{[b_i=1]}(b_i) + \\beta_s 1_{[s_i=1]}(s_i) + \\beta_{bs}(1_{[b_i=1]}(b_i) \\times 1_{[s_i=1]}(s_i))$ means there are of course again three different flavors, but this time they are explained by three **parameters**: banana $\\beta_b$, strawberry $\\beta_s$, and banana-strawberry $\\beta_b+\\beta_s + \\beta_{bs}$, which indicates that the flavor is \"more than just sum of its parts\", meaning there is a **synergistic interaction** and there is an interesting interplay between bananas and strawberries in the way they influence the taste of the smoothie_\n",
    ">     \n",
    "> _As the **additive** and **synergistic** versions of the **linear form** of the two **binary indicator variables** context shows, we don't need an interaction to make different predictions for different combinations of things. Instead, what these show is that the prediction will either be **additive** and \"just the sum of it's parts\" or **synergistic** (**interactive**) and \"more than just sum of its parts\"._\n",
    ">    \n",
    "> ---\n",
    "> \n",
    "> _Don't forget to ask for summaries of all your different ChatBot sessions and organize and paste these into your homework notebook (including link(s) to chat log histories if you're using ChatBot); but, if you're using the STA130 custom NBLM ChatBot, you'll only be able to ask for summaries, of course!_ \n",
    "      \n",
    "</details>\n"
   ]
  },
  {
   "cell_type": "markdown",
   "id": "bc70f2d0",
   "metadata": {},
   "source": [
    "## 2.\n",
    "\n",
    "### 1. Explain how to use these two formulas to make predictions of the outcome, and give a high level explaination in general terms of the difference between predictions from the models with and without the interaction\n",
    "\n",
    "For the two continuous variables, we can assume that the effects of x1 and x2 on y are independent of each other. Meaning the impact of x1 on the outcome does not change based on the vaue of x2. For the interaction formula, it is useful when we believe that the relationship betwenn one continuous predictor and the coutcome is different depending on the balue of the other level, the effect of hours studies on test scres which is y may be rapidly changed depending on the level of prior knowledge. Meanwhile for two binary variables, it assumes the effect of each binary variable on y is dependent of the effect of the other binary variable, where the effect of one variable does not depend on the level of other.\n",
    "\n",
    "### 2. Explain how to update and use the implied two formulas to make predictions of the outcome if, rather than considering two continuous predictor variables, we instead suppose the advertisement budgets are simply categorized as either \"high\" or \"low\" (binary variables)\n",
    "\n",
    "The company suspects that the effectiveness of spending on one advertising medium could depend on the level of spending on the other medium. In other words, there might be an interaction effect between the two. So, we will set the ad budgets into 2 groups, which are high where the budget is above a certain threshold, and low where the buget is below that threshold. Then, we know that two of the continuous variables are now transformed into binary numbers, where TV budget is 0 if low, 1 is high, same as the online budget. When there is no interaction, while the change in sales when the TV budget is high, keeping the online budget constant, while the change in sales when the online budget is high, keeping the TV budget constant. On the other hand which for the interaction form, B3 represents the interaction effect between TV and online budgets, where indicates the impact of a high TV budget changes when online budget is also high, in a result that the differece between the two models are the model assumes that the effect of high TV ot onoine budgets on sales is progressively adde, where the increase in sales due to a high budget in one medium is the same, depends on the budget level in the other medium. Moreover, the model indicates for a positive effect between the two ad mediums. While both variables are high, the comnined effect on sales can be different."
   ]
  },
  {
   "cell_type": "markdown",
   "id": "f097af67",
   "metadata": {},
   "source": [
    "### 3. Use *smf* to fit *multiple linear regression* models to the course project dataset from the canadian social connection survey<br>\n",
    "\n",
    "> **EDIT: No, you probably actually care about CATEGORICAL or BINARY outcomes rather than CONTINUOUS outcomes... so you'll probably not actually want to do _multiple linear regression_ and instead do _logistic regression_ or _multi-class classification_. Okay, I'll INSTEAD guide you through doing _logistic regression_.**\n",
    "\n",
    "1. ~~for an **additive** specification for the **linear form** based on any combination of a couple **continuous**, **binary**, and/or **categorical variables** and a **CONTINUOUS OUTCOME varaible**~~ \n",
    "    1. This would have been easy to do following the instructions [here](https://www.statsmodels.org/dev/example_formulas.html). A good alternative analagous presentation for logistic regression I just found seems to be this one from a guy named [Andrew](https://www.andrewvillazon.com/logistic-regression-python-statsmodels/). He walks you through the `logit` alternative to `OLS` given [here](https://www.statsmodels.org/dev/api.html#discrete-and-count-models).\n",
    "    2. Logistic is for a **binary outcome** so go see this [piazza post](https://piazza.com/class/m0584bs9t4thi/post/346_f1) describing how you can turn any **non-binary categorical variable** into a **binary variable**. \n",
    "    3. Then instead do this problem like this: **catogorical outcome** turned into a **binary outcome** for **logistic regression** and then use any **additive** combination of a couple of **continuous**, **binary**, and/or **categorical variables** as **predictor variables**. \n",
    "\n",
    "\n",
    "```python\n",
    "# Here's an example of how you can do this\n",
    "import pandas as pd\n",
    "import statsmodels.formula.api as smf\n",
    "\n",
    "url = \"https://raw.githubusercontent.com/KeithGalli/pandas/master/pokemon_data.csv\"\n",
    "pokeaman = pd.read_csv(url).fillna('None')\n",
    "\n",
    "pokeaman['str8fyre'] = (pokeaman['Type 1']=='Fire').astype(int)\n",
    "linear_model_specification_formula = \\\n",
    "'str8fyre ~ Attack*Legendary + Defense*I(Q(\"Type 2\")==\"None\") + C(Generation)'\n",
    "log_reg_fit = smf.logit(linear_model_specification_formula, data=pokeaman).fit()\n",
    "log_reg_fit.summary()\n",
    "```\n",
    "\n",
    "\n",
    "2. ~~for a **synertistic interaction** specification for the **linear form** based on any combination of a couple **continuous**, **binary**, and/or **categorical variables**~~\n",
    "    1. But go ahead and AGAIN do this for **logistic regression** like above.\n",
    "    2. Things are going to be A LOT simpler if you restrict yourself to **continuous** and/or **binary predictor variables**.  But of course you could *use the same trick again* to treat any **categorical variable** as just a **binary variable** (in the manner of [that piazza post](https://piazza.com/class/m0584bs9t4thi/post/346_f1).\n",
    "    \n",
    "\n",
    "3. and **interpretively explain** your **linear forms** and how to use them to make **predictions**\n",
    "    1. Look, intereting **logistic regression** *IS NOT* as simple as interpreting **multivariate linear regression**. This is because it requires you to understand so-called **log odds** and that's a bit tricky. \n",
    "    2. So, INSTEAD, **just intepret you logistic regression models** *AS IF* they were **multivariate linear regression model predictions**, okay?\n",
    "\n",
    "\n",
    "4. and interpret the statistical evidence associated with the **predictor variables** for each of your model specifications \n",
    "    1. **Yeah, you're going to be able to do this based on the `.fit().summary()` table _just like with multiple linear regression_**... now you might be starting to see how AWESOME all of this stuff we're doing is going to be able to get...\n",
    "\n",
    "\n",
    "5. and finally use `plotly` to visualize the data with corresponding \"best fit lines\" for a model with **continuous** plus **binary indicator** specification under both (a) **additive** and (b) **synergistic** specifications of the **linear form** (on separate figures), commenting on the apparent necessity (or lack thereof) of the **interaction** term for the data in question\n",
    "    1. Aw, shit, you DEF not going to be able to do this if you're doing **logistic regression** because of that **log odds** thing I mentioned... hmm...\n",
    "    2. OKAY! Just *pretend* it's **multivariate linear regression** (even if you're doing **logistic regression**) and *pretend* your **fitted coefficients** belong to a **continuous** and a **binary predictor variable**; then, draw the lines as requested, and simulate **random noise** for the values of your **predictor data** and plot your lines along with that data.\n",
    "    \n",
    "\n",
    "<details class=\"details-example\"><summary style=\"color:blue\"><u>Further Guidance</u></summary>\n",
    "\n",
    "> _This [link](https://www.statsmodels.org/dev/examples/notebooks/generated/formulas.html) offers guidance on using `statsmodels.formula.api` (`smf`) to build statistical models in Python using formulas._\n",
    ">\n",
    "> _The \"best fit lines\" summarize the relationship between the **outcome** and **predictor variables** observed in the data as well as the **linear form** of the **multiple linear regression** allows. The statistical evidence for the these estimated realtionship characterizations of course depends on an evaluation of the **hypothesis testing** for the **coefficients** of the model. **Model building** is the process of exploring the evidence for observed relationships captured through the modeling of the data in order to arrive at reliable (**generalizable**) claims based on the data, and perhaps make predictions about the future based on these created beliefs and understandings (whose value of course depends on how trustworthy these created beliefs and understandings are)._\n",
    ">\n",
    "> _When we do not find sufficient sufficient evidence for supposed relationships that we'd like to leverage for understanding or prediction, attempting to move forward on the basis of such \"findings\" is certainly a dangerous errand..._\n",
    "    \n",
    "</details>\n"
   ]
  },
  {
   "cell_type": "code",
   "execution_count": 1,
   "id": "aea4d519",
   "metadata": {},
   "outputs": [
    {
     "name": "stdout",
     "output_type": "stream",
     "text": [
      "Optimization terminated successfully.\n",
      "         Current function value: 0.228109\n",
      "         Iterations 8\n"
     ]
    },
    {
     "data": {
      "text/html": [
       "<table class=\"simpletable\">\n",
       "<caption>Logit Regression Results</caption>\n",
       "<tr>\n",
       "  <th>Dep. Variable:</th>       <td>str8fyre</td>     <th>  No. Observations:  </th>  <td>   800</td> \n",
       "</tr>\n",
       "<tr>\n",
       "  <th>Model:</th>                 <td>Logit</td>      <th>  Df Residuals:      </th>  <td>   788</td> \n",
       "</tr>\n",
       "<tr>\n",
       "  <th>Method:</th>                 <td>MLE</td>       <th>  Df Model:          </th>  <td>    11</td> \n",
       "</tr>\n",
       "<tr>\n",
       "  <th>Date:</th>            <td>Thu, 14 Nov 2024</td> <th>  Pseudo R-squ.:     </th>  <td>0.05156</td>\n",
       "</tr>\n",
       "<tr>\n",
       "  <th>Time:</th>                <td>19:55:35</td>     <th>  Log-Likelihood:    </th> <td> -182.49</td>\n",
       "</tr>\n",
       "<tr>\n",
       "  <th>converged:</th>             <td>True</td>       <th>  LL-Null:           </th> <td> -192.41</td>\n",
       "</tr>\n",
       "<tr>\n",
       "  <th>Covariance Type:</th>     <td>nonrobust</td>    <th>  LLR p-value:       </th>  <td>0.04757</td>\n",
       "</tr>\n",
       "</table>\n",
       "<table class=\"simpletable\">\n",
       "<tr>\n",
       "                      <td></td>                        <th>coef</th>     <th>std err</th>      <th>z</th>      <th>P>|z|</th>  <th>[0.025</th>    <th>0.975]</th>  \n",
       "</tr>\n",
       "<tr>\n",
       "  <th>Intercept</th>                                <td>   -3.2644</td> <td>    0.714</td> <td>   -4.572</td> <td> 0.000</td> <td>   -4.664</td> <td>   -1.865</td>\n",
       "</tr>\n",
       "<tr>\n",
       "  <th>Legendary[T.True]</th>                        <td>    4.3478</td> <td>    2.179</td> <td>    1.996</td> <td> 0.046</td> <td>    0.078</td> <td>    8.618</td>\n",
       "</tr>\n",
       "<tr>\n",
       "  <th>I(Q(\"Type 2\") == \"None\")[T.True]</th>         <td>    1.5432</td> <td>    0.853</td> <td>    1.810</td> <td> 0.070</td> <td>   -0.128</td> <td>    3.215</td>\n",
       "</tr>\n",
       "<tr>\n",
       "  <th>C(Generation)[T.2]</th>                       <td>   -0.0574</td> <td>    0.468</td> <td>   -0.123</td> <td> 0.902</td> <td>   -0.975</td> <td>    0.861</td>\n",
       "</tr>\n",
       "<tr>\n",
       "  <th>C(Generation)[T.3]</th>                       <td>   -0.6480</td> <td>    0.466</td> <td>   -1.390</td> <td> 0.164</td> <td>   -1.561</td> <td>    0.265</td>\n",
       "</tr>\n",
       "<tr>\n",
       "  <th>C(Generation)[T.4]</th>                       <td>   -0.8255</td> <td>    0.545</td> <td>   -1.516</td> <td> 0.130</td> <td>   -1.893</td> <td>    0.242</td>\n",
       "</tr>\n",
       "<tr>\n",
       "  <th>C(Generation)[T.5]</th>                       <td>   -0.5375</td> <td>    0.449</td> <td>   -1.198</td> <td> 0.231</td> <td>   -1.417</td> <td>    0.342</td>\n",
       "</tr>\n",
       "<tr>\n",
       "  <th>C(Generation)[T.6]</th>                       <td>    0.3213</td> <td>    0.477</td> <td>    0.673</td> <td> 0.501</td> <td>   -0.614</td> <td>    1.257</td>\n",
       "</tr>\n",
       "<tr>\n",
       "  <th>Attack</th>                                   <td>    0.0172</td> <td>    0.006</td> <td>    3.086</td> <td> 0.002</td> <td>    0.006</td> <td>    0.028</td>\n",
       "</tr>\n",
       "<tr>\n",
       "  <th>Attack:Legendary[T.True]</th>                 <td>   -0.0365</td> <td>    0.019</td> <td>   -1.884</td> <td> 0.060</td> <td>   -0.074</td> <td>    0.001</td>\n",
       "</tr>\n",
       "<tr>\n",
       "  <th>Defense</th>                                  <td>   -0.0098</td> <td>    0.008</td> <td>   -1.247</td> <td> 0.213</td> <td>   -0.025</td> <td>    0.006</td>\n",
       "</tr>\n",
       "<tr>\n",
       "  <th>Defense:I(Q(\"Type 2\") == \"None\")[T.True]</th> <td>   -0.0197</td> <td>    0.012</td> <td>   -1.651</td> <td> 0.099</td> <td>   -0.043</td> <td>    0.004</td>\n",
       "</tr>\n",
       "</table>"
      ],
      "text/latex": [
       "\\begin{center}\n",
       "\\begin{tabular}{lclc}\n",
       "\\toprule\n",
       "\\textbf{Dep. Variable:}                           &     str8fyre     & \\textbf{  No. Observations:  } &      800    \\\\\n",
       "\\textbf{Model:}                                   &      Logit       & \\textbf{  Df Residuals:      } &      788    \\\\\n",
       "\\textbf{Method:}                                  &       MLE        & \\textbf{  Df Model:          } &       11    \\\\\n",
       "\\textbf{Date:}                                    & Thu, 14 Nov 2024 & \\textbf{  Pseudo R-squ.:     } &  0.05156    \\\\\n",
       "\\textbf{Time:}                                    &     19:55:35     & \\textbf{  Log-Likelihood:    } &   -182.49   \\\\\n",
       "\\textbf{converged:}                               &       True       & \\textbf{  LL-Null:           } &   -192.41   \\\\\n",
       "\\textbf{Covariance Type:}                         &    nonrobust     & \\textbf{  LLR p-value:       } &  0.04757    \\\\\n",
       "\\bottomrule\n",
       "\\end{tabular}\n",
       "\\begin{tabular}{lcccccc}\n",
       "                                                  & \\textbf{coef} & \\textbf{std err} & \\textbf{z} & \\textbf{P$> |$z$|$} & \\textbf{[0.025} & \\textbf{0.975]}  \\\\\n",
       "\\midrule\n",
       "\\textbf{Intercept}                                &      -3.2644  &        0.714     &    -4.572  &         0.000        &       -4.664    &       -1.865     \\\\\n",
       "\\textbf{Legendary[T.True]}                        &       4.3478  &        2.179     &     1.996  &         0.046        &        0.078    &        8.618     \\\\\n",
       "\\textbf{I(Q(\"Type 2\") == \"None\")[T.True]}         &       1.5432  &        0.853     &     1.810  &         0.070        &       -0.128    &        3.215     \\\\\n",
       "\\textbf{C(Generation)[T.2]}                       &      -0.0574  &        0.468     &    -0.123  &         0.902        &       -0.975    &        0.861     \\\\\n",
       "\\textbf{C(Generation)[T.3]}                       &      -0.6480  &        0.466     &    -1.390  &         0.164        &       -1.561    &        0.265     \\\\\n",
       "\\textbf{C(Generation)[T.4]}                       &      -0.8255  &        0.545     &    -1.516  &         0.130        &       -1.893    &        0.242     \\\\\n",
       "\\textbf{C(Generation)[T.5]}                       &      -0.5375  &        0.449     &    -1.198  &         0.231        &       -1.417    &        0.342     \\\\\n",
       "\\textbf{C(Generation)[T.6]}                       &       0.3213  &        0.477     &     0.673  &         0.501        &       -0.614    &        1.257     \\\\\n",
       "\\textbf{Attack}                                   &       0.0172  &        0.006     &     3.086  &         0.002        &        0.006    &        0.028     \\\\\n",
       "\\textbf{Attack:Legendary[T.True]}                 &      -0.0365  &        0.019     &    -1.884  &         0.060        &       -0.074    &        0.001     \\\\\n",
       "\\textbf{Defense}                                  &      -0.0098  &        0.008     &    -1.247  &         0.213        &       -0.025    &        0.006     \\\\\n",
       "\\textbf{Defense:I(Q(\"Type 2\") == \"None\")[T.True]} &      -0.0197  &        0.012     &    -1.651  &         0.099        &       -0.043    &        0.004     \\\\\n",
       "\\bottomrule\n",
       "\\end{tabular}\n",
       "%\\caption{Logit Regression Results}\n",
       "\\end{center}"
      ],
      "text/plain": [
       "<class 'statsmodels.iolib.summary.Summary'>\n",
       "\"\"\"\n",
       "                           Logit Regression Results                           \n",
       "==============================================================================\n",
       "Dep. Variable:               str8fyre   No. Observations:                  800\n",
       "Model:                          Logit   Df Residuals:                      788\n",
       "Method:                           MLE   Df Model:                           11\n",
       "Date:                Thu, 14 Nov 2024   Pseudo R-squ.:                 0.05156\n",
       "Time:                        19:55:35   Log-Likelihood:                -182.49\n",
       "converged:                       True   LL-Null:                       -192.41\n",
       "Covariance Type:            nonrobust   LLR p-value:                   0.04757\n",
       "============================================================================================================\n",
       "                                               coef    std err          z      P>|z|      [0.025      0.975]\n",
       "------------------------------------------------------------------------------------------------------------\n",
       "Intercept                                   -3.2644      0.714     -4.572      0.000      -4.664      -1.865\n",
       "Legendary[T.True]                            4.3478      2.179      1.996      0.046       0.078       8.618\n",
       "I(Q(\"Type 2\") == \"None\")[T.True]             1.5432      0.853      1.810      0.070      -0.128       3.215\n",
       "C(Generation)[T.2]                          -0.0574      0.468     -0.123      0.902      -0.975       0.861\n",
       "C(Generation)[T.3]                          -0.6480      0.466     -1.390      0.164      -1.561       0.265\n",
       "C(Generation)[T.4]                          -0.8255      0.545     -1.516      0.130      -1.893       0.242\n",
       "C(Generation)[T.5]                          -0.5375      0.449     -1.198      0.231      -1.417       0.342\n",
       "C(Generation)[T.6]                           0.3213      0.477      0.673      0.501      -0.614       1.257\n",
       "Attack                                       0.0172      0.006      3.086      0.002       0.006       0.028\n",
       "Attack:Legendary[T.True]                    -0.0365      0.019     -1.884      0.060      -0.074       0.001\n",
       "Defense                                     -0.0098      0.008     -1.247      0.213      -0.025       0.006\n",
       "Defense:I(Q(\"Type 2\") == \"None\")[T.True]    -0.0197      0.012     -1.651      0.099      -0.043       0.004\n",
       "============================================================================================================\n",
       "\"\"\""
      ]
     },
     "execution_count": 1,
     "metadata": {},
     "output_type": "execute_result"
    }
   ],
   "source": [
    "import pandas as pd\n",
    "import statsmodels.formula.api as smf\n",
    "\n",
    "url = \"https://raw.githubusercontent.com/KeithGalli/pandas/master/pokemon_data.csv\"\n",
    "pokeaman = pd.read_csv(url).fillna('None')\n",
    "\n",
    "pokeaman['str8fyre'] = (pokeaman['Type 1']=='Fire').astype(int)\n",
    "linear_model_specification_formula = \\\n",
    "'str8fyre ~ Attack*Legendary + Defense*I(Q(\"Type 2\")==\"None\") + C(Generation)'\n",
    "log_reg_fit = smf.logit(linear_model_specification_formula, data=pokeaman).fit()\n",
    "log_reg_fit.summary()\n"
   ]
  },
  {
   "cell_type": "markdown",
   "id": "545cc6e3",
   "metadata": {},
   "source": [
    "## 3.\n",
    "\n",
    "### 1.\n",
    "Cancelled\n",
    "\n",
    "### 2.\n",
    "Cancelled\n",
    "\n",
    "### 3.\n",
    "if the outcome variable is binary, we can fit a binary logistic regression model, but if the outcome variable is categoriacl with mora than two levels, we can use the multivariate linear regression model predictions. For creating the model of logistic regression, we are setting the y to logit(p), where p is the probability of the positive putcomes, where the B values are the coefficients which multiply by the predictors from the CSCS data. The code below is the one I asked chatGPT to fit a basic logistic regression model for me."
   ]
  },
  {
   "cell_type": "code",
   "execution_count": 6,
   "id": "c2f87275",
   "metadata": {},
   "outputs": [
    {
     "name": "stdout",
     "output_type": "stream",
     "text": [
      "Collecting gdown\n",
      "  Using cached gdown-5.2.0-py3-none-any.whl.metadata (5.8 kB)\n",
      "Requirement already satisfied: beautifulsoup4 in /opt/conda/lib/python3.11/site-packages (from gdown) (4.12.2)\n",
      "Requirement already satisfied: filelock in /opt/conda/lib/python3.11/site-packages (from gdown) (3.15.4)\n",
      "Requirement already satisfied: requests[socks] in /opt/conda/lib/python3.11/site-packages (from gdown) (2.31.0)\n",
      "Requirement already satisfied: tqdm in /opt/conda/lib/python3.11/site-packages (from gdown) (4.66.1)\n",
      "Requirement already satisfied: soupsieve>1.2 in /opt/conda/lib/python3.11/site-packages (from beautifulsoup4->gdown) (2.5)\n",
      "Requirement already satisfied: charset-normalizer<4,>=2 in /opt/conda/lib/python3.11/site-packages (from requests[socks]->gdown) (3.3.2)\n",
      "Requirement already satisfied: idna<4,>=2.5 in /opt/conda/lib/python3.11/site-packages (from requests[socks]->gdown) (3.6)\n",
      "Requirement already satisfied: urllib3<3,>=1.21.1 in /opt/conda/lib/python3.11/site-packages (from requests[socks]->gdown) (2.1.0)\n",
      "Requirement already satisfied: certifi>=2017.4.17 in /opt/conda/lib/python3.11/site-packages (from requests[socks]->gdown) (2023.11.17)\n",
      "Requirement already satisfied: PySocks!=1.5.7,>=1.5.6 in /opt/conda/lib/python3.11/site-packages (from requests[socks]->gdown) (1.7.1)\n",
      "Using cached gdown-5.2.0-py3-none-any.whl (18 kB)\n",
      "Installing collected packages: gdown\n",
      "Successfully installed gdown-5.2.0\n"
     ]
    }
   ],
   "source": [
    "!pip install gdown\n"
   ]
  },
  {
   "cell_type": "code",
   "execution_count": 7,
   "id": "8e2bbfb4",
   "metadata": {},
   "outputs": [
    {
     "name": "stderr",
     "output_type": "stream",
     "text": [
      "Downloading...\n",
      "From: https://drive.google.com/uc?id=1mbUQlMTrNYA7Ly5eImVRBn16Ehy9Lggo\n",
      "To: /home/jovyan/CSCS_data_anon.csv\n",
      "100%|██████████| 95.4M/95.4M [00:01<00:00, 53.7MB/s]\n",
      "/tmp/ipykernel_52/1140594171.py:12: DtypeWarning: Columns (408,1001,1002,1006,1007,1008,1080,1113,1115,1116,1117,1118,1119,1120,1121,1124,1125,1126,1127,1128,1213,1214,1215,1216,1217,1218,1342,1343,1344,1345,1346,1347,1348,1349,1390,1391,1393,1463,1549,1552,1555,1558,1561) have mixed types. Specify dtype option on import or set low_memory=False.\n",
      "  cscs_data = pd.read_csv('CSCS_data_anon.csv')\n"
     ]
    },
    {
     "name": "stdout",
     "output_type": "stream",
     "text": [
      "    UNIQUE_id  UNIQUE_num_records ELIGIBLE_consent GEO_residence_canada  \\\n",
      "0  cscs_00001                   1              Yes                  Yes   \n",
      "1  cscs_00002                   1              Yes                  Yes   \n",
      "2  cscs_00003                   1              Yes                  Yes   \n",
      "3  cscs_00005                   1              Yes                  Yes   \n",
      "4  cscs_00006                   1              Yes                  Yes   \n",
      "\n",
      "       GEO_province  DEMO_age DEMO_gender DEMO_identity_vetrans  \\\n",
      "0  British Columbia      71.0  Non-binary                   NaN   \n",
      "1           Ontario      69.0       Woman                   NaN   \n",
      "2            Quebec      56.0       Woman                   NaN   \n",
      "3               NaN      54.0       Woman                   NaN   \n",
      "4           Ontario      30.0         Man          Not Selected   \n",
      "\n",
      "                            DEMO_identity_indigenous  \\\n",
      "0                                                NaN   \n",
      "1                                                NaN   \n",
      "2                                                NaN   \n",
      "3                                                NaN   \n",
      "4  Indigenous peoples (e.g., First Nations, Métis...   \n",
      "\n",
      "                           DEMO_identity_lgbtq  ...  \\\n",
      "0  Sexual or gender minorities (e.g., LGBTQ2+)  ...   \n",
      "1                                 Not Selected  ...   \n",
      "2                                 Not Selected  ...   \n",
      "3                                 Not Selected  ...   \n",
      "4  Sexual or gender minorities (e.g., LGBTQ2+)  ...   \n",
      "\n",
      "  PSYCH_body_self_image_questionnaire_height_dissatisfaction_score  \\\n",
      "0                                                NaN                 \n",
      "1                                                3.0                 \n",
      "2                                                NaN                 \n",
      "3                                                NaN                 \n",
      "4                                                NaN                 \n",
      "\n",
      "  PSYCH_body_self_image_questionnaire_fatness_evaluation_score  \\\n",
      "0                                                NaN             \n",
      "1                                                8.0             \n",
      "2                                                NaN             \n",
      "3                                                NaN             \n",
      "4                                                NaN             \n",
      "\n",
      "  PSYCH_body_self_image_questionnaire_negative_affect_score  \\\n",
      "0                                                NaN          \n",
      "1                                                3.0          \n",
      "2                                                NaN          \n",
      "3                                                NaN          \n",
      "4                                                NaN          \n",
      "\n",
      "  PSYCH_body_self_image_questionnaire_social_dependence_score  \\\n",
      "0                                                NaN            \n",
      "1                                                3.0            \n",
      "2                                                NaN            \n",
      "3                                                NaN            \n",
      "4                                                NaN            \n",
      "\n",
      "  PSYCH_big_five_inventory_agreeable_score  \\\n",
      "0                                      NaN   \n",
      "1                                      NaN   \n",
      "2                                      NaN   \n",
      "3                                     28.0   \n",
      "4                                      NaN   \n",
      "\n",
      "  PSYCH_big_five_inventory_conscientious_score  \\\n",
      "0                                          NaN   \n",
      "1                                          NaN   \n",
      "2                                          NaN   \n",
      "3                                         34.0   \n",
      "4                                          NaN   \n",
      "\n",
      "  PSYCH_big_five_inventory_extraverted_score  \\\n",
      "0                                        NaN   \n",
      "1                                        NaN   \n",
      "2                                        NaN   \n",
      "3                                       30.0   \n",
      "4                                        NaN   \n",
      "\n",
      "  PSYCH_big_five_inventory_neurotic_score PSYCH_big_five_inventory_open_score  \\\n",
      "0                                     NaN                                 NaN   \n",
      "1                                     NaN                                 NaN   \n",
      "2                                     NaN                                 NaN   \n",
      "3                                    32.0                                37.0   \n",
      "4                                     NaN                                 NaN   \n",
      "\n",
      "  REMOVE_case  \n",
      "0          No  \n",
      "1          No  \n",
      "2          No  \n",
      "3          No  \n",
      "4          No  \n",
      "\n",
      "[5 rows x 1794 columns]\n"
     ]
    }
   ],
   "source": [
    "import pandas as pd\n",
    "import gdown\n",
    "\n",
    "# Define the file ID and URL\n",
    "file_id = \"1mbUQlMTrNYA7Ly5eImVRBn16Ehy9Lggo\"\n",
    "url = f\"https://drive.google.com/uc?id={file_id}\"\n",
    "\n",
    "# Download the file\n",
    "gdown.download(url, 'CSCS_data_anon.csv', quiet=False)\n",
    "\n",
    "# Load the CSV file into a DataFrame\n",
    "cscs_data = pd.read_csv('CSCS_data_anon.csv')\n",
    "\n",
    "# Display the first few rows\n",
    "print(cscs_data.head())\n"
   ]
  },
  {
   "cell_type": "code",
   "execution_count": 4,
   "id": "740c64bc",
   "metadata": {},
   "outputs": [
    {
     "name": "stdout",
     "output_type": "stream",
     "text": [
      "Index(['UNIQUE_id', 'UNIQUE_num_records', 'ELIGIBLE_consent',\n",
      "       'GEO_residence_canada', 'GEO_province', 'DEMO_age', 'DEMO_gender',\n",
      "       'DEMO_identity_vetrans', 'DEMO_identity_indigenous',\n",
      "       'DEMO_identity_lgbtq',\n",
      "       ...\n",
      "       'PSYCH_body_self_image_questionnaire_height_dissatisfaction_score',\n",
      "       'PSYCH_body_self_image_questionnaire_fatness_evaluation_score',\n",
      "       'PSYCH_body_self_image_questionnaire_negative_affect_score',\n",
      "       'PSYCH_body_self_image_questionnaire_social_dependence_score',\n",
      "       'PSYCH_big_five_inventory_agreeable_score',\n",
      "       'PSYCH_big_five_inventory_conscientious_score',\n",
      "       'PSYCH_big_five_inventory_extraverted_score',\n",
      "       'PSYCH_big_five_inventory_neurotic_score',\n",
      "       'PSYCH_big_five_inventory_open_score', 'REMOVE_case'],\n",
      "      dtype='object', length=1794)\n"
     ]
    }
   ],
   "source": [
    "print(cscs_data.columns)"
   ]
  },
  {
   "cell_type": "code",
   "execution_count": 5,
   "id": "c2901fd4",
   "metadata": {},
   "outputs": [
    {
     "name": "stdout",
     "output_type": "stream",
     "text": [
      "object\n"
     ]
    }
   ],
   "source": [
    "print(cscs_data['DEMO_relationship_status'].dtype)\n"
   ]
  },
  {
   "cell_type": "code",
   "execution_count": 6,
   "id": "a4d796ac",
   "metadata": {},
   "outputs": [],
   "source": [
    "# Convert to numeric (0 = No, 1 = Yes for example)\n",
    "cscs_data['DEMO_relationship_status'] = cscs_data['DEMO_relationship_status'].map({'No': 0, 'Yes': 1})  # Adjust mapping based on your data\n"
   ]
  },
  {
   "cell_type": "code",
   "execution_count": 7,
   "id": "a2891fed",
   "metadata": {},
   "outputs": [
    {
     "name": "stdout",
     "output_type": "stream",
     "text": [
      "11431\n"
     ]
    }
   ],
   "source": [
    "# Check for missing values\n",
    "print(cscs_data['DEMO_relationship_status'].isnull().sum())\n",
    "\n",
    "# Optionally, remove rows with missing target variable\n",
    "cscs_data = cscs_data.dropna(subset=['DEMO_relationship_status'])\n"
   ]
  },
  {
   "cell_type": "code",
   "execution_count": 8,
   "id": "c7d07344",
   "metadata": {},
   "outputs": [
    {
     "name": "stdout",
     "output_type": "stream",
     "text": [
      "(0, 1794)\n"
     ]
    }
   ],
   "source": [
    "print(cscs_data.shape)\n"
   ]
  },
  {
   "cell_type": "code",
   "execution_count": 9,
   "id": "e537b2d8",
   "metadata": {},
   "outputs": [
    {
     "name": "stdout",
     "output_type": "stream",
     "text": [
      "DEMO_relationship_status                           0\n",
      "DEMO_occupation                                    0\n",
      "WORK_feel_quitting                                 0\n",
      "WORK_feel_stress                                   0\n",
      "CONNECTION_activities_talked_job_p3m               0\n",
      "WELLNESS_malach_pines_burnout_measure_depressed    0\n",
      "WELLNESS_phq_feeling_down                          0\n",
      "WELLNESS_depression_diagnosis                      0\n",
      "WELLNESS_anxiety_diagnosis                         0\n",
      "dtype: int64\n"
     ]
    }
   ],
   "source": [
    "# Check for missing values in the target and predictor variables\n",
    "print(cscs_data[['DEMO_relationship_status', 'DEMO_occupation', 'WORK_feel_quitting', 'WORK_feel_stress', \n",
    "                 'CONNECTION_activities_talked_job_p3m', 'WELLNESS_malach_pines_burnout_measure_depressed', \n",
    "                 'WELLNESS_phq_feeling_down', 'WELLNESS_depression_diagnosis', 'WELLNESS_anxiety_diagnosis']].isnull().sum())\n",
    "\n",
    "# Remove rows with missing values in any of the relevant columns\n",
    "cscs_data_clean = cscs_data.dropna(subset=['DEMO_relationship_status', 'DEMO_occupation', 'WORK_feel_quitting', \n",
    "                                            'WORK_feel_stress', 'CONNECTION_activities_talked_job_p3m', \n",
    "                                            'WELLNESS_malach_pines_burnout_measure_depressed', \n",
    "                                            'WELLNESS_phq_feeling_down', 'WELLNESS_depression_diagnosis', \n",
    "                                            'WELLNESS_anxiety_diagnosis'])\n"
   ]
  },
  {
   "cell_type": "code",
   "execution_count": 10,
   "id": "47abafab",
   "metadata": {},
   "outputs": [
    {
     "name": "stdout",
     "output_type": "stream",
     "text": [
      "UNIQUE_id                                        object\n",
      "UNIQUE_num_records                                int64\n",
      "ELIGIBLE_consent                                 object\n",
      "GEO_residence_canada                             object\n",
      "GEO_province                                     object\n",
      "                                                 ...   \n",
      "PSYCH_big_five_inventory_conscientious_score    float64\n",
      "PSYCH_big_five_inventory_extraverted_score      float64\n",
      "PSYCH_big_five_inventory_neurotic_score         float64\n",
      "PSYCH_big_five_inventory_open_score             float64\n",
      "REMOVE_case                                      object\n",
      "Length: 1794, dtype: object\n"
     ]
    }
   ],
   "source": [
    "print(cscs_data_clean.dtypes)\n"
   ]
  },
  {
   "cell_type": "code",
   "execution_count": null,
   "id": "1fa9a363",
   "metadata": {},
   "outputs": [],
   "source": []
  },
  {
   "cell_type": "code",
   "execution_count": 11,
   "id": "a6ca3322",
   "metadata": {},
   "outputs": [
    {
     "name": "stdout",
     "output_type": "stream",
     "text": [
      "UNIQUE_id                                       0\n",
      "UNIQUE_num_records                              0\n",
      "ELIGIBLE_consent                                0\n",
      "GEO_residence_canada                            0\n",
      "GEO_province                                    0\n",
      "                                               ..\n",
      "PSYCH_big_five_inventory_conscientious_score    0\n",
      "PSYCH_big_five_inventory_extraverted_score      0\n",
      "PSYCH_big_five_inventory_neurotic_score         0\n",
      "PSYCH_big_five_inventory_open_score             0\n",
      "REMOVE_case                                     0\n",
      "Length: 1794, dtype: int64\n"
     ]
    }
   ],
   "source": [
    "# Check if any columns are constant\n",
    "print(cscs_data_clean.nunique())\n"
   ]
  },
  {
   "cell_type": "code",
   "execution_count": 8,
   "id": "81fb445e",
   "metadata": {},
   "outputs": [
    {
     "name": "stdout",
     "output_type": "stream",
     "text": [
      "(0, 9)\n"
     ]
    }
   ],
   "source": [
    "relevant_columns = [\n",
    "    'DEMO_relationship_status', 'DEMO_occupation', 'WORK_feel_quitting', \n",
    "    'WORK_feel_stress', 'CONNECTION_activities_talked_job_p3m', \n",
    "    'WELLNESS_malach_pines_burnout_measure_depressed', \n",
    "    'WELLNESS_phq_feeling_down', 'WELLNESS_depression_diagnosis', \n",
    "    'WELLNESS_anxiety_diagnosis'\n",
    "]\n",
    "\n",
    "# Filter out missing values\n",
    "cscs_data_clean = cscs_data[relevant_columns].dropna()\n",
    "print(cscs_data_clean.shape)  # Check if the data is non-empty\n"
   ]
  },
  {
   "cell_type": "code",
   "execution_count": 9,
   "id": "9bcba51d",
   "metadata": {},
   "outputs": [
    {
     "name": "stdout",
     "output_type": "stream",
     "text": [
      "DEMO_relationship_status                           0\n",
      "DEMO_occupation                                    0\n",
      "WORK_feel_quitting                                 0\n",
      "WORK_feel_stress                                   0\n",
      "CONNECTION_activities_talked_job_p3m               0\n",
      "WELLNESS_malach_pines_burnout_measure_depressed    0\n",
      "WELLNESS_phq_feeling_down                          0\n",
      "WELLNESS_depression_diagnosis                      0\n",
      "WELLNESS_anxiety_diagnosis                         0\n",
      "dtype: int64\n",
      "DEMO_relationship_status                           0\n",
      "DEMO_occupation                                    0\n",
      "WORK_feel_quitting                                 0\n",
      "WORK_feel_stress                                   0\n",
      "CONNECTION_activities_talked_job_p3m               0\n",
      "WELLNESS_malach_pines_burnout_measure_depressed    0\n",
      "WELLNESS_phq_feeling_down                          0\n",
      "WELLNESS_depression_diagnosis                      0\n",
      "WELLNESS_anxiety_diagnosis                         0\n",
      "dtype: int64\n"
     ]
    }
   ],
   "source": [
    "# Check for any NaN, inf, or -inf values\n",
    "print(cscs_data_clean.isna().sum())  # Check for NaNs\n",
    "print(cscs_data_clean.isin([float('inf'), float('-inf')]).sum())  # Check for infinite values\n",
    "\n",
    "# Drop any problematic rows\n",
    "cscs_data_clean = cscs_data_clean.replace([float('inf'), float('-inf')], pd.NA)\n",
    "cscs_data_clean = cscs_data_clean.dropna()\n"
   ]
  },
  {
   "cell_type": "code",
   "execution_count": 11,
   "id": "92692405",
   "metadata": {},
   "outputs": [
    {
     "name": "stdout",
     "output_type": "stream",
     "text": [
      "Data shape: (0, 9)\n",
      "Any missing values: 0\n"
     ]
    }
   ],
   "source": [
    "print(f\"Data shape: {cscs_data_clean.shape}\")\n",
    "print(f\"Any missing values: {cscs_data_clean.isnull().sum().sum()}\")  # Check total missing values\n"
   ]
  },
  {
   "cell_type": "code",
   "execution_count": 12,
   "id": "d7ba6d4c",
   "metadata": {},
   "outputs": [
    {
     "name": "stdout",
     "output_type": "stream",
     "text": [
      "Data after encoding: Empty DataFrame\n",
      "Columns: []\n",
      "Index: []\n"
     ]
    }
   ],
   "source": [
    "# Convert all object or categorical columns to dummies\n",
    "categorical_cols = cscs_data_clean.select_dtypes(include=['object', 'category']).columns\n",
    "cscs_data_clean = pd.get_dummies(cscs_data_clean, columns=categorical_cols, drop_first=True)\n",
    "print(f\"Data after encoding: {cscs_data_clean.head()}\")\n"
   ]
  },
  {
   "cell_type": "code",
   "execution_count": 14,
   "id": "bdc858ba",
   "metadata": {},
   "outputs": [
    {
     "name": "stdout",
     "output_type": "stream",
     "text": [
      "UNIQUE_id                                        object\n",
      "UNIQUE_num_records                                int64\n",
      "ELIGIBLE_consent                                 object\n",
      "GEO_residence_canada                             object\n",
      "GEO_province                                     object\n",
      "                                                 ...   \n",
      "PSYCH_big_five_inventory_conscientious_score    float64\n",
      "PSYCH_big_five_inventory_extraverted_score      float64\n",
      "PSYCH_big_five_inventory_neurotic_score         float64\n",
      "PSYCH_big_five_inventory_open_score             float64\n",
      "REMOVE_case                                      object\n",
      "Length: 1794, dtype: object\n"
     ]
    }
   ],
   "source": [
    "print(cscs_data.dtypes)\n"
   ]
  },
  {
   "cell_type": "code",
   "execution_count": 15,
   "id": "627ff2cd",
   "metadata": {},
   "outputs": [],
   "source": [
    "# Example of converting 'DEMO_occupation' to a category\n",
    "cscs_data['DEMO_occupation'] = cscs_data['DEMO_occupation'].astype('category')\n"
   ]
  },
  {
   "cell_type": "code",
   "execution_count": 16,
   "id": "ad59b6ed",
   "metadata": {},
   "outputs": [
    {
     "name": "stdout",
     "output_type": "stream",
     "text": [
      "Columns after filtering: Index(['UNIQUE_id', 'UNIQUE_num_records', 'ELIGIBLE_consent',\n",
      "       'GEO_residence_canada', 'GEO_province', 'DEMO_age', 'DEMO_gender',\n",
      "       'DEMO_identity_lgbtq', 'DEMO_relationship_status',\n",
      "       'COVID_prevention_distancing',\n",
      "       ...\n",
      "       'LONELY_dejong_emotional_loneliness_sub_scale_score',\n",
      "       'LONELY_dejong_social_loneliness_sub_scale_score',\n",
      "       'LONELY_dejong_emotional_social_loneliness_scale_score_y_n',\n",
      "       'LONELY_dejong_emotional_loneliness_sub_scale_score_y_n',\n",
      "       'LONELY_dejong_social_loneliness_sub_scale_score_y_n',\n",
      "       'WELLNESS_phq_score', 'WELLNESS_phq_score_y_n', 'WELLNESS_gad_score',\n",
      "       'WELLNESS_gad_score_y_n', 'REMOVE_case'],\n",
      "      dtype='object', length=141)\n",
      "Shape after filtering: (11431, 141)\n",
      "Data after encoding:    UNIQUE_num_records  DEMO_age  WELLNESS_life_satisfaction  \\\n",
      "0                   1      71.0                         2.0   \n",
      "1                   1      69.0                         7.0   \n",
      "2                   1      56.0                         5.0   \n",
      "3                   1      54.0                         4.0   \n",
      "4                   1      30.0                         8.0   \n",
      "\n",
      "   SURVEY_collection_year  SURVEY_duration_seconds  SURVEY_progress  \\\n",
      "0                    2022                     1529              100   \n",
      "1                    2022                     1381              100   \n",
      "2                    2022                     2428              100   \n",
      "3                    2023                     1546              100   \n",
      "4                    2021                     2175              100   \n",
      "\n",
      "   SURVEY_finished  CONNECTION_social_days_family_p7d  \\\n",
      "0             True                                2.0   \n",
      "1             True                                2.0   \n",
      "2             True                                5.0   \n",
      "3             True                                7.0   \n",
      "4             True                                NaN   \n",
      "\n",
      "   CONNECTION_social_days_friends_p7d  CONNECTION_social_days_neighbours_p7d  \\\n",
      "0                                 2.0                                    2.0   \n",
      "1                                 2.0                                    0.0   \n",
      "2                                 7.0                                    1.0   \n",
      "3                                 2.0                                    1.0   \n",
      "4                                 NaN                                    NaN   \n",
      "\n",
      "   ...  CONNECTION_activities_walk_pm_Yes  CONNECTION_activities_games_pm_Yes  \\\n",
      "0  ...                               True                               False   \n",
      "1  ...                               True                                True   \n",
      "2  ...                               True                                True   \n",
      "3  ...                               True                                True   \n",
      "4  ...                               True                                True   \n",
      "\n",
      "   CONNECTION_activities_talked_pm_Yes  \\\n",
      "0                                 True   \n",
      "1                                 True   \n",
      "2                                 True   \n",
      "3                                False   \n",
      "4                                 True   \n",
      "\n",
      "   LONELY_dejong_emotional_social_loneliness_scale_score_y_n_Yes (2-6)  \\\n",
      "0                                               True                     \n",
      "1                                              False                     \n",
      "2                                               True                     \n",
      "3                                               True                     \n",
      "4                                               True                     \n",
      "\n",
      "   LONELY_dejong_emotional_loneliness_sub_scale_score_y_n_Yes (1-3)  \\\n",
      "0                                               True                  \n",
      "1                                              False                  \n",
      "2                                               True                  \n",
      "3                                               True                  \n",
      "4                                               True                  \n",
      "\n",
      "   LONELY_dejong_social_loneliness_sub_scale_score_y_n_Yes (1-3)  \\\n",
      "0                                               True               \n",
      "1                                              False               \n",
      "2                                               True               \n",
      "3                                               True               \n",
      "4                                               True               \n",
      "\n",
      "   WELLNESS_phq_score_y_n_Yes (3-6)  WELLNESS_gad_score_y_n_Yes (3-6)  \\\n",
      "0                              True                              True   \n",
      "1                             False                             False   \n",
      "2                             False                              True   \n",
      "3                              True                             False   \n",
      "4                             False                             False   \n",
      "\n",
      "   REMOVE_case_No  REMOVE_case_Yes  \n",
      "0            True            False  \n",
      "1            True            False  \n",
      "2            True            False  \n",
      "3            True            False  \n",
      "4            True            False  \n",
      "\n",
      "[5 rows x 52076 columns]\n"
     ]
    }
   ],
   "source": [
    "# Drop columns with more than 50% missing values\n",
    "threshold = 0.5 * len(cscs_data)\n",
    "cscs_data_filtered = cscs_data.dropna(thresh=threshold, axis=1)\n",
    "\n",
    "print(f\"Columns after filtering: {cscs_data_filtered.columns}\")\n",
    "print(f\"Shape after filtering: {cscs_data_filtered.shape}\")\n",
    "\n",
    "# Convert to dummies for categorical columns\n",
    "categorical_cols = cscs_data_filtered.select_dtypes(include=['object', 'category']).columns\n",
    "cscs_data_encoded = pd.get_dummies(cscs_data_filtered, columns=categorical_cols, drop_first=True)\n",
    "\n",
    "print(f\"Data after encoding: {cscs_data_encoded.head()}\")\n"
   ]
  },
  {
   "cell_type": "code",
   "execution_count": 17,
   "id": "9cf49ce8",
   "metadata": {},
   "outputs": [
    {
     "name": "stdout",
     "output_type": "stream",
     "text": [
      "Dataset is ready for modeling.\n",
      "   UNIQUE_num_records  DEMO_age  WELLNESS_life_satisfaction  \\\n",
      "0                   1      71.0                         2.0   \n",
      "1                   1      69.0                         7.0   \n",
      "2                   1      56.0                         5.0   \n",
      "3                   1      54.0                         4.0   \n",
      "4                   1      30.0                         8.0   \n",
      "\n",
      "   SURVEY_collection_year  SURVEY_duration_seconds  SURVEY_progress  \\\n",
      "0                    2022                     1529              100   \n",
      "1                    2022                     1381              100   \n",
      "2                    2022                     2428              100   \n",
      "3                    2023                     1546              100   \n",
      "4                    2021                     2175              100   \n",
      "\n",
      "   SURVEY_finished  CONNECTION_social_days_family_p7d  \\\n",
      "0             True                                2.0   \n",
      "1             True                                2.0   \n",
      "2             True                                5.0   \n",
      "3             True                                7.0   \n",
      "4             True                                NaN   \n",
      "\n",
      "   CONNECTION_social_days_friends_p7d  CONNECTION_social_days_neighbours_p7d  \\\n",
      "0                                 2.0                                    2.0   \n",
      "1                                 2.0                                    0.0   \n",
      "2                                 7.0                                    1.0   \n",
      "3                                 2.0                                    1.0   \n",
      "4                                 NaN                                    NaN   \n",
      "\n",
      "   ...  CONNECTION_activities_walk_pm_Yes  CONNECTION_activities_games_pm_Yes  \\\n",
      "0  ...                               True                               False   \n",
      "1  ...                               True                                True   \n",
      "2  ...                               True                                True   \n",
      "3  ...                               True                                True   \n",
      "4  ...                               True                                True   \n",
      "\n",
      "   CONNECTION_activities_talked_pm_Yes  \\\n",
      "0                                 True   \n",
      "1                                 True   \n",
      "2                                 True   \n",
      "3                                False   \n",
      "4                                 True   \n",
      "\n",
      "   LONELY_dejong_emotional_social_loneliness_scale_score_y_n_Yes (2-6)  \\\n",
      "0                                               True                     \n",
      "1                                              False                     \n",
      "2                                               True                     \n",
      "3                                               True                     \n",
      "4                                               True                     \n",
      "\n",
      "   LONELY_dejong_emotional_loneliness_sub_scale_score_y_n_Yes (1-3)  \\\n",
      "0                                               True                  \n",
      "1                                              False                  \n",
      "2                                               True                  \n",
      "3                                               True                  \n",
      "4                                               True                  \n",
      "\n",
      "   LONELY_dejong_social_loneliness_sub_scale_score_y_n_Yes (1-3)  \\\n",
      "0                                               True               \n",
      "1                                              False               \n",
      "2                                               True               \n",
      "3                                               True               \n",
      "4                                               True               \n",
      "\n",
      "   WELLNESS_phq_score_y_n_Yes (3-6)  WELLNESS_gad_score_y_n_Yes (3-6)  \\\n",
      "0                              True                              True   \n",
      "1                             False                             False   \n",
      "2                             False                              True   \n",
      "3                              True                             False   \n",
      "4                             False                             False   \n",
      "\n",
      "   REMOVE_case_No  REMOVE_case_Yes  \n",
      "0            True            False  \n",
      "1            True            False  \n",
      "2            True            False  \n",
      "3            True            False  \n",
      "4            True            False  \n",
      "\n",
      "[5 rows x 52076 columns]\n"
     ]
    }
   ],
   "source": [
    "if cscs_data_encoded.empty:\n",
    "    print(\"The cleaned dataset is empty. Please check missing value handling or encoding issues.\")\n",
    "else:\n",
    "    print(\"Dataset is ready for modeling.\")\n",
    "    print(cscs_data_encoded.head())\n"
   ]
  },
  {
   "cell_type": "code",
   "execution_count": 22,
   "id": "f321a332",
   "metadata": {},
   "outputs": [
    {
     "name": "stdout",
     "output_type": "stream",
     "text": [
      "Columns in the encoded dataset: Index(['UNIQUE_num_records', 'DEMO_age', 'WELLNESS_life_satisfaction',\n",
      "       'SURVEY_collection_year', 'SURVEY_duration_seconds', 'SURVEY_progress',\n",
      "       'SURVEY_finished', 'CONNECTION_social_days_family_p7d',\n",
      "       'CONNECTION_social_days_friends_p7d',\n",
      "       'CONNECTION_social_days_neighbours_p7d',\n",
      "       ...\n",
      "       'CONNECTION_activities_walk_pm_Yes',\n",
      "       'CONNECTION_activities_games_pm_Yes',\n",
      "       'CONNECTION_activities_talked_pm_Yes',\n",
      "       'LONELY_dejong_emotional_social_loneliness_scale_score_y_n_Yes (2-6)',\n",
      "       'LONELY_dejong_emotional_loneliness_sub_scale_score_y_n_Yes (1-3)',\n",
      "       'LONELY_dejong_social_loneliness_sub_scale_score_y_n_Yes (1-3)',\n",
      "       'WELLNESS_phq_score_y_n_Yes (3-6)', 'WELLNESS_gad_score_y_n_Yes (3-6)',\n",
      "       'REMOVE_case_No', 'REMOVE_case_Yes'],\n",
      "      dtype='object', length=52076)\n",
      "'DEMO_relationship_status' in columns: False\n"
     ]
    }
   ],
   "source": [
    "print(\"Columns in the encoded dataset:\", cscs_data_encoded.columns)\n",
    "print(\"'DEMO_relationship_status' in columns:\", 'DEMO_relationship_status' in cscs_data_encoded.columns)\n"
   ]
  },
  {
   "cell_type": "markdown",
   "id": "a3a2fcba",
   "metadata": {},
   "source": [
    "I have been working with chatgpt for 2 hours, still it can't fix the problems that occured from the code, for the column from the CSCS data is not binary, and chatGPT has been trying so hard to transfer them to inazry, which failed anyways, so I tried my best to model the logistic mode, but not succeeded."
   ]
  },
  {
   "cell_type": "markdown",
   "id": "41e91be7",
   "metadata": {},
   "source": [
    "### 4."
   ]
  },
  {
   "cell_type": "code",
   "execution_count": 31,
   "id": "5151716a",
   "metadata": {},
   "outputs": [
    {
     "data": {
      "text/plain": [
       "\"\\n# Hypothetical code to fit a model\\nimport statsmodels.formula.api as smf\\nmodel = smf.logit('DEMO_relationship_status ~ WORK_feel_quitting + WORK_feel_stress + WELLNESS_phq_feeling_down', data=cscs_data_encoded).fit()\\nprint(model.summary())\\n\""
      ]
     },
     "execution_count": 31,
     "metadata": {},
     "output_type": "execute_result"
    }
   ],
   "source": [
    "'''\n",
    "# Hypothetical code to fit a model\n",
    "import statsmodels.formula.api as smf\n",
    "model = smf.logit('DEMO_relationship_status ~ WORK_feel_quitting + WORK_feel_stress + WELLNESS_phq_feeling_down', data=cscs_data_encoded).fit()\n",
    "print(model.summary())\n",
    "'''"
   ]
  },
  {
   "cell_type": "markdown",
   "id": "790fdcb8",
   "metadata": {},
   "source": [
    "The .fit().summary() output of logistic regression models from statsmodels provides statistical evidence that can be interpreted similarly to multiple linear regression models. This interpretation involves examining coefficients, standard errors, z-scores, p-values, and confidence intervals for each predictor variable. However, since the problem from the previous question occured anyways, I can't be able to finish this question anyways."
   ]
  },
  {
   "cell_type": "markdown",
   "id": "a1f0c95c",
   "metadata": {},
   "source": [
    "### 5."
   ]
  },
  {
   "cell_type": "code",
   "execution_count": 27,
   "id": "ba68181e",
   "metadata": {},
   "outputs": [
    {
     "data": {
      "image/png": "[encoded data removed]"
     },
     "metadata": {},
     "output_type": "display_data"
    },
    {
     "data": {
      "image/png": "[encoded data removed]"
     },
     "metadata": {},
     "output_type": "display_data"
    }
   ],
   "source": [
    "import numpy as np\n",
    "import plotly.express as px\n",
    "import plotly.graph_objects as go\n",
    "\n",
    "# Simulation Parameters\n",
    "np.random.seed(42)\n",
    "n_points = 100\n",
    "\n",
    "# Generate Predictor Data\n",
    "work_feel_quitting = np.random.uniform(0, 10, n_points)\n",
    "depression_diagnosis = np.random.choice([0, 1], size=n_points)\n",
    "\n",
    "# Fitted Coefficients (as if from multivariate linear regression)\n",
    "b0 = -0.8  # Intercept\n",
    "b1 = 0.5   # Continuous predictor coefficient\n",
    "b2 = 1.2   # Binary indicator coefficient\n",
    "b3 = 0.8   # Interaction effect coefficient\n",
    "\n",
    "# (a) Additive Model: y = b0 + b1*X1 + b2*X2\n",
    "additive_y = b0 + b1 * work_feel_quitting + b2 * depression_diagnosis\n",
    "additive_y_noisy = additive_y + np.random.normal(0, 1, n_points)\n",
    "\n",
    "# (b) Synergistic Model: y = b0 + b1*X1 + b2*X2 + b3*X1*X2\n",
    "synergistic_y = b0 + b1 * work_feel_quitting + b2 * depression_diagnosis + b3 * work_feel_quitting * depression_diagnosis\n",
    "synergistic_y_noisy = synergistic_y + np.random.normal(0, 1, n_points)\n",
    "\n",
    "# Additive Model Plot\n",
    "fig_additive = px.scatter(x=work_feel_quitting, y=additive_y_noisy, color=depression_diagnosis.astype(str),\n",
    "                          labels={'x': 'WORK_feel_quitting', 'y': 'DEMO_relationship_status (Predicted)'},\n",
    "                          title='Additive Model: Predicted Relationship Status')\n",
    "fig_additive.add_trace(go.Scatter(x=work_feel_quitting, y=additive_y, mode='lines', name='Best Fit Line (No Depression)'))\n",
    "fig_additive.add_trace(go.Scatter(x=work_feel_quitting, y=b0 + b1 * work_feel_quitting + b2, \n",
    "                                  mode='lines', name='Best Fit Line (With Depression)'))\n",
    "\n",
    "# Synergistic Model Plot\n",
    "fig_synergistic = px.scatter(x=work_feel_quitting, y=synergistic_y_noisy, color=depression_diagnosis.astype(str),\n",
    "                              labels={'x': 'WORK_feel_quitting', 'y': 'DEMO_relationship_status (Predicted)'},\n",
    "                              title='Synergistic Model: Predicted Relationship Status')\n",
    "fig_synergistic.add_trace(go.Scatter(x=work_feel_quitting, y=synergistic_y, mode='lines', name='Interaction Effect Line'))\n",
    "\n",
    "# Show plots\n",
    "fig_additive.update_layout(showlegend=True)\n",
    "fig_additive.show(renderer=\"png\")\n",
    "\n",
    "fig_synergistic.update_layout(showlegend=True)\n",
    "fig_synergistic.show(renderer=\"png\")\n"
   ]
  },
  {
   "cell_type": "markdown",
   "id": "6d6ac555",
   "metadata": {},
   "source": [
    "### 4. Explain the apparent contradiction between the factual statements regarding the fit below that \"the model only explains 17.6% of the variability in the data\" while at the same time \"many of the *coefficients* are larger than 10 while having *strong* or *very strong evidence against* the *null hypothesis* of 'no effect'\"<br>\n",
    "\n",
    "<details class=\"details-example\"><summary style=\"color:blue\"><u>Further Guidance</u></summary>\n",
    "    \n",
    "> _How do we simultaneously interpret **hypothesis testing** results regarding **coefficient estimates** based on **p-values** and **R-squared** \"the proportion of variation in (outcome) $y$ explained by the model ($\\hat y_i$)\"? How can both be meaningfully understood at the same time? Do they address different aspects of a model?_\n",
    ">    \n",
    "> _As introduced in the previous homework, **R-squared** is_\n",
    ">\n",
    "> _$$R^2 = 1 - \\frac{\\sum_{i=1}^n(y_i-\\hat y)^2}{\\sum_{i=1}^n(y_i-\\bar y)^2}$$_\n",
    ">    \n",
    "> _which describes the **explanatory power** of a model; whereas, **p-values** allow us to characterize **evidence against** a **null hypothesis**, and **coefficients** in a **multiple linear regression** context allow us to interpret the relationship between the **outcome** and a **predictor variable** \"with all other **predictor variables** 'held constant'\". Are these concepts thus contradictory or conflictual in some manner?_\n",
    "\n",
    "|p-value|Evidence|\n",
    "|-|-|\n",
    "|$$p > 0.1$$|No evidence against the null hypothesis|\n",
    "|$$0.1 \\ge p > 0.05$$|Weak evidence against the null hypothesis|\n",
    "|$$0.05 \\ge p > 0.01$$|Moderate evidence against the null hypothesis|\n",
    "|$$0.01 \\ge p > 0.001$$|Strong evidence against the null hypothesis|\n",
    "|$$0.001 \\ge p$$|Very strong evidence against the null hypothesis|\n",
    "    \n",
    "> _In `formula='HP ~ Q(\"Sp. Def\") * C(Generation)'` the `Q` stands for \"quote\" and is needed to access column names when they have a \"space\" in their name, while the `C` indicates a **categorical** use of what is actually an **integer** valued column. Despite technically being **continuous** numbers, **integer** often simply indicate categories which should not necessarily be treated as an incremental **continuous predictor variable**. Remember, a model such as $\\beta_0 + \\beta_1 x$ means for each unit increase in $x$ the outcome increases \"on average\" by $\\beta_1$; so, if $x$ takes on the values `1` through `6` as the `Generation` **predictor variable** here does, then this means the average value for \"Generation 1\" must be $\\beta_0 + \\beta_1$ while for \"Generation 2\" it must be $\\beta_0 + 2\\times \\beta_1$ (and so on up to \"Generation 6\" which must be $\\beta_0 + 6\\times \\beta_1$). This might be a very strange restriction to place on something that is really actually a **categorical predictor variable**. You can see in the given model fit below how this six-level **categorical predictor variable** is actually appropriately treated in the specification of the **linear form** using \"Generation 1\" for the \"baseline\" and **binary indicators** to model the \"contrast\" (\"offsets\") for the other \"Generations\"; and, how these are in turn used in the context of the **interaction** considered by the model specification._ \n",
    "    \n",
    "</details>"
   ]
  },
  {
   "cell_type": "code",
   "execution_count": null,
   "id": "ee4ccce6",
   "metadata": {},
   "outputs": [],
   "source": [
    "import pandas as pd\n",
    "\n",
    "url = \"https://raw.githubusercontent.com/KeithGalli/pandas/master/pokemon_data.csv\"\n",
    "# fail https://github.com/KeithGalli/pandas/blob/master/pokemon_data.csv\n",
    "pokeaman = pd.read_csv(url) \n",
    "pokeaman"
   ]
  },
  {
   "cell_type": "code",
   "execution_count": null,
   "id": "4d4a80b7",
   "metadata": {
    "scrolled": true
   },
   "outputs": [],
   "source": [
    "import statsmodels.formula.api as smf\n",
    "\n",
    "model1_spec = smf.ols(formula='HP ~ Q(\"Sp. Def\") + C(Generation)', data=pokeaman)\n",
    "model2_spec = smf.ols(formula='HP ~ Q(\"Sp. Def\") + C(Generation) + Q(\"Sp. Def\"):C(Generation)', data=pokeaman)\n",
    "model2_spec = smf.ols(formula='HP ~ Q(\"Sp. Def\") * C(Generation)', data=pokeaman)\n",
    "\n",
    "model2_fit = model2_spec.fit()\n",
    "model2_fit.summary()"
   ]
  },
  {
   "cell_type": "markdown",
   "id": "32de3259",
   "metadata": {},
   "source": [
    "The model are not contradictory but rather indicates different aspects of model evaluation. For the R-squared value, it measures the proportion of variance in the outcome variable that can be explained by the predictor variables in the model, which if an R-squared of 17.6% indicates that only 17.6% of the variability in the outcome variable is accounted for by the predictors in the model, which as a whole, does not explain much of the variability in the outcome variable, it shows that there are likely other factors or variables, not included in the model, that have a substantial impact on the outcome variable. Meanwhile, the small p-values indicate that the predictor variables included in the model have a statistically significant relationship with the outcome variable. However, the predictor variables might not be capturing enough of the overall variability in the outcome. In conclusion, R-squared determines how well the model explains the variability in the outcome variable, and P-values indicates whether individual predictors have any effects on the outcome."
   ]
  },
  {
   "cell_type": "markdown",
   "id": "614675a5",
   "metadata": {},
   "source": [
    "<details class=\"details-example\"><summary style=\"color:blue\"><u>Continue now...?</u></summary>\n",
    "\n",
    "### Pre-lecture VS Post-lecture HW\n",
    "    \n",
    "Feel free to work on the \"Post-lecture\" HW below if you're making good progress and want to continue: in this case the \"Post-lecture\" HW just builds on the \"Post-lecture\" HW, introducing and extending the considerations available in the **multiple linear regression context**. That said, as \"question 3\" above hopefully suggests and reminds you, the **course project** is well upon us, and prioritizing work on that (even over the homework) may very well be indicated at this point...\n",
    "\n",
    "*The benefits of continue would are that (a) it might be fun to try to tackle the challenge of working through some problems without additional preparation or guidance; and (b) this is a very valable skill to be comfortable with; and (c) it will let you build experience interacting with ChatBots (and beginning to understand their strengths and limitations in this regard)... it's good to have sense of when using a ChatBot is the best way to figure something out, or if another approach (such as course provided resources or a plain old websearch for the right resourse) would be more effective*\n",
    "    \n",
    "</details>    \n"
   ]
  },
  {
   "cell_type": "markdown",
   "id": "3a392bc2",
   "metadata": {},
   "source": [
    "## \"Post-lecture\" HW [*submission along with \"Pre-lecture\" HW is due prior to next TUT*]\n"
   ]
  },
  {
   "cell_type": "markdown",
   "id": "51edb40a",
   "metadata": {},
   "source": [
    "### 5. Discuss the following (five cells of) code and results with a ChatBot and based on the understanding you arrive at in this conversation explain what the following (five cells of) are illustrating<br>\n",
    "\n",
    "<details class=\"details-example\"><summary style=\"color:blue\"><u>Further Guidance</u></summary>\n",
    "    \n",
    "> _Recall from the previous week's homework that the **R-squared** \"the proportion of variation in (outcome) $y$ explained by the model ($\\hat y_i$)\" quantity (re-introduced in the previous problem) can be calculated as `np.corrcoef(y,fitted_model.fittedvalues)[0,1]**2` (as well as several other ways in the **simple linear regression** context). The **squared correlation** between the outcome $y$ and it's **fitted values** $\\hat y$ is the most generally useful formulation of **R-squared** since this can be use in the **multiple linear regression** context._\n",
    "> \n",
    "> _This question therefore thus addresses the question of model **generalizability** on the basis of \"in sample\" and \"out of sample\" **model performance** (measured by **R-squared**)._\n",
    "> \n",
    "> - _The **squared correlation** between the **outcomes** $y$ and their **fitted values** $\\hat y$ is an \"in sample\" **model performance** metric since the $\\hat y$ \"predictions\" for the $y$ **outcomes** are based on using those already **observed outcomes** to fit the model to generate the $\\hat y$._  \n",
    "> \n",
    "> - _If we instead calculate **squared correlation** between **outcomes** $y$ that were not used to fit the model and their corresponding $\\hat y$ **predictions** (which are indeed now actually **predictions** as opposed to **fitted values**), then we are now  calculating an \"out of sample\" **model performance** metric._\n",
    "> \n",
    "> _When an \"out of sample\" metric performs more poorly than a comparitive \"in sample\" metric, then the **predictions** of the **fitted model** are not **generalizing** to data being the dataset the model is fit on. In this case we say the model is **overfit** (to the data its fit was based on). The purpose of using different **training** and **testing** datasets is to consider \"in sample\" versus \"out of sample\" **model performance** in order to try to confirm that the model is not **overfit** and that the **predictions** do indeed seem to **generalizable** beyond the dataset used for **model fitting**._\n",
    ">    \n",
    "> ---\n",
    "> \n",
    "> _Don't forget to ask for summaries of all your different ChatBot sessions and organize and paste these into your homework notebook (including link(s) to chat log histories if you're using ChatBot); but, if you're using the STA130 custom NBLM ChatBot, you'll only be able to ask for summaries, of course!_\n",
    "    \n",
    "</details>"
   ]
  },
  {
   "cell_type": "code",
   "execution_count": null,
   "id": "f4dd90ac",
   "metadata": {},
   "outputs": [],
   "source": [
    "import numpy as np\n",
    "from sklearn.model_selection import train_test_split\n",
    "\n",
    "fifty_fifty_split_size = int(pokeaman.shape[0]*0.5)\n",
    "\n",
    "# Replace \"NaN\" (in the \"Type 2\" column with \"None\")\n",
    "pokeaman.fillna('None', inplace=True)\n",
    "\n",
    "np.random.seed(130)\n",
    "pokeaman_train,pokeaman_test = \\\n",
    "  train_test_split(pokeaman, train_size=fifty_fifty_split_size)\n",
    "pokeaman_train\n"
   ]
  },
  {
   "cell_type": "markdown",
   "id": "3686107e",
   "metadata": {},
   "source": [
    "The code is to process the train-test split, it calculates a 50% split size of the dataset pokeaman using int(pokeaman.shape[0] * 0.5), then fills any missing values in the \"Type 2\" column with the string 'None'. After that, it sets a random seed using np.random.seed(130)to indicate the reproducibility of the split. Finally splits the dataset into two sets. This code sets up the training and testing dataset for computng the models, with a 50/50 split, and handling the missing data."
   ]
  },
  {
   "cell_type": "code",
   "execution_count": null,
   "id": "69a8b379",
   "metadata": {},
   "outputs": [],
   "source": [
    "model_spec3 = smf.ols(formula='HP ~ Attack + Defense', \n",
    "                      data=pokeaman_train)\n",
    "model3_fit = model_spec3.fit()\n",
    "model3_fit.summary()"
   ]
  },
  {
   "cell_type": "markdown",
   "id": "9a785d0b",
   "metadata": {},
   "source": [
    "This code is to make a basseline model with just two predictora to predict HP and outpts its summary for interpretation. The code defined a linear model using smf.ols, where the outcoe variable is predicted based on two predictors, which are Attack and Defense. Then the code uses .fit() method to estmates the coefficients using the training data. Finally, printing the summary of the fitted model, including coefficients, p-values and R-squared."
   ]
  },
  {
   "cell_type": "code",
   "execution_count": null,
   "id": "ac52c0b6",
   "metadata": {},
   "outputs": [],
   "source": [
    "yhat_model3 = model3_fit.predict(pokeaman_test)\n",
    "y = pokeaman_test.HP\n",
    "print(\"'In sample' R-squared:    \", model3_fit.rsquared)\n",
    "print(\"'Out of sample' R-squared:\", np.corrcoef(y,yhat_model3)[0,1]**2)"
   ]
  },
  {
   "cell_type": "markdown",
   "id": "dfd1dd4e",
   "metadata": {},
   "source": [
    "The code is to make the predictions on test set, as you can see yhat_model3 generates predicted values of HP using the fitted model on the test dataset. Then it calculates R-squared values, where model3_fit.rsquared measures the proportion of variance in HP explained by Attack and Defense within the training set, and comoutes the squared correlation between actual and predicted HP values o the test set, while assessing model performance on unseen data. The code evaluates how well the model generalizes to new data, comparing the fit on both training and testing sets."
   ]
  },
  {
   "cell_type": "code",
   "execution_count": null,
   "id": "3cfa038c",
   "metadata": {
    "scrolled": true
   },
   "outputs": [],
   "source": [
    "model4_linear_form = 'HP ~ Attack * Defense * Speed * Legendary'\n",
    "model4_linear_form += ' * Q(\"Sp. Def\") * Q(\"Sp. Atk\")'\n",
    "# DO NOT try adding '* C(Generation) * C(Q(\"Type 1\")) * C(Q(\"Type 2\"))'\n",
    "# That's 6*18*19 = 6*18*19 possible interaction combinations...\n",
    "# ...a huge number that will blow up your computer\n",
    "\n",
    "model4_spec = smf.ols(formula=model4_linear_form, data=pokeaman_train)\n",
    "model4_fit = model4_spec.fit()\n",
    "model4_fit.summary()"
   ]
  },
  {
   "cell_type": "markdown",
   "id": "e075d6c8",
   "metadata": {},
   "source": [
    "The code is used to fit a much more complez model, accounting for multiple predictors and teir interactions to predict HP. It includes multiple interaction terms among several predictors which are attack, defense, speed, legendary, sp. def, and sp. atk., which it summarizes the interactions with Attack and defense. The commented-out line mentions the risk of creating too many interaction terms."
   ]
  },
  {
   "cell_type": "code",
   "execution_count": null,
   "id": "61d225cb",
   "metadata": {},
   "outputs": [],
   "source": [
    "yhat_model4 = model4_fit.predict(pokeaman_test)\n",
    "y = pokeaman_test.HP\n",
    "print(\"'In sample' R-squared:    \", model4_fit.rsquared)\n",
    "print(\"'Out of sample' R-squared:\", np.corrcoef(y,yhat_model4)[0,1]**2)"
   ]
  },
  {
   "cell_type": "markdown",
   "id": "c662bbdf",
   "metadata": {},
   "source": [
    "The code provides predictions by using more complex interaction model for the test dataset. it indicates how well the more complex interaction model explains the variation in HP in both training and test data."
   ]
  },
  {
   "cell_type": "markdown",
   "id": "deecc5b7",
   "metadata": {},
   "source": [
    "### 6. Work with a ChatBot to understand how the *model4_linear_form* (*linear form* specification of  *model4*) creates new *predictor variables* as the columns of the so-called \"design matrix\" *model4_spec.exog* (*model4_spec.exog.shape*) used to predict the *outcome variable*  *model4_spec.endog* and why the so-called *multicollinearity* in this \"design matrix\" (observed in *np.corrcoef(model4_spec.exog)*) contribues to the lack of \"out of sample\" *generalization* of *predictions* from *model4_fit*; then, explain this consisely in your own works<br>\n",
    "\n",
    "<details class=\"details-example\"><summary style=\"color:blue\"><u>Further Guidance</u></summary>\n",
    "\n",
    "> _The **overfitting** observed in the previous problem is a question of **model complexity** relative to the amount of information or evidence available in a given dataset (or we could just say \"the amount of data in a dataset\"). The **model fit** for  `model4` resulted in an **overfit model** because the specification of its **linear form** was overly complex (relative to the the amount of available data). Indeed, `model4` is rediculously complex as can be seen from `model4_fit.summary()`. This in turn allowed the **model fit** to \"detect\" idiosyncratic associations spuriously present specifically in the **training** dataset but which did not **generalize** to the **testing** dataset. If a model is too **complex** then it will find and model \"patterns\" in a **training** dataset which are actually just accidental \"noise\" from the random sampling nature of the dataset. The simpler (or more parsimoneous) `model3` on the other hand was able to identify **predictive associations** in the **training** dataset which did **generalize** to the **testing** dataset. This is because `model3` only sought to understand simpler **predictive association** for which there was enough data in the **training** dataset to reliably detect and obviously identify. And these patterns were indeed sufficiently \"real\" in the sense that they were present and **generalized** into the **testing** dataset as well as the **training** dataset. So they could be \"found\" in the **training** and then used in (**generalized** to) the **testing** dataset._\n",
    "> \n",
    "> _This question therefore addresses the topic of the **evidence** a given dataset provides for the **predictive associations** detected by a **fitted model**. It should be increasingly clear at this point that evidence for a model can be addressed using **coefficent hypothesis testing** in the context of **multiple linear regression**, but that examinations of \"in sample\" versus \"out of sample\" **model performance** metrics are what in fact are directly designed to address this question of **generalizability**. That said, this question introduces another consideration of **multicollinearity** as something that affects the **generalizability** of **model fits** in the **multiple linear regression** context. A good question that a ChatBot could help you understand is (a) \"why is **generalizability** more uncertain if two **predictor variables** are highly **correlated**?\" and (b) \"why is **generalizability** more uncertain if multiple **predictor variables** are highly **multicollinear**?\"_\n",
    ">\n",
    "> _The four code cells below are not necessary for answering this question; however, they introduce two very practical helpful tools for the **multiple linear regression** context that are immediately relevant for this question. The first is the so-called **condition number** (of a \"design matrix\") which provides a very simple diagnostic which can serve as a measure the degree of **multicollinearity** that is present in a **model fit**. If this number is \"very large\" then there is a large degree of **multicollinearity** and suggests room for doubt regarding the **generalizability** of the **fitted model**. The second tool(s) are the `center` and `scale` functions. It is best practice to \"center and scale\" **continuous predictor variables** (but not **indicator variables**) in the **multiple linear regression** context as is done below. While \"centering and scaling\" does make interpreting the predictions on the original scale of the data slighly more complicated, it also must be done in order to get a \"true\" evaluation of the degree of **multicollinearity** present in a **model fit** using the **condition number** of the model (\"design matrix\"). The examples below show that the **condition number** reported by a **fitted model** are \"artificially inflacted\" if \"centering and scaling\" is not used. Specically, they show that the **condition number** of `model3_fit` is really `1.66` (as opposed to the \"very large\" `343` which is reported without \"centering and scaling\"); whereas, the **condition number** for `model4_fit` is \"very (VERY) large\" irrespective of \"centering and scaling\", showing that the overwheling presense of **multicollinearity** in `model4_fit` is in fact a very real thing.  Indeed, we have already seen that `model4_fit` is grossly **overfit** and does not remotely **generalize** beyond its **training** dataset. Without knowing this, however, the comically large **condition number** for `model4_fit` (after \"centering and scaling\") makes it abundantly clear that we should have great doubts about the likely **generalizability** of `model4_fit` (even without examining specific aspects of **multicollinearity** directly or examining \"in sample\" versus \"out of sample\" **model performance** comparisions)._\n",
    ">\n",
    "> - _The \"specific aspects of **multicollinearity**\" reference above refer to understanding and attributing the detrmimental affects of specific **predictor variables** towards **multicollinearity**. This can be done using so-called **variance inflation factors**, but this is beyond the scope of STA130. We should be aware that the presence of excessive **multicollinearity** as indicated by a large **condition number** for a (\"centered and scaled\") **fitted model** raises grave concerns regarding the potential **generalizability** of the model._\n",
    ">\n",
    "> _The `np.corrcoef(model4_spec.exog)` examination of the **correlations** of a \"design matrix\" considered in ths problems prompt is analogous to the examination of the **correlations** present in a dataset that might considered when initially examining the **predictor variables** of a dataset, such as `pokeaman.iloc[:,4:12].corr()`. Indeed, such an examination is often the first step in examining the potential presence of **multicollinearity** among the **predictor variables** of a dataset. However, these are consideration of **pairwise correlation**, whereas **multicollinearity** generalizes this notion to the full collection of **predictor variables** together. A **condition number** for a \"centered and scale\" version of a **fit model** can therefore be viewed as serving the analogous purposes of a multivariate generalization of **pairwise correlation**._\n",
    ">    \n",
    "> ---\n",
    "> \n",
    "> _Don't forget to ask for summaries of all your different ChatBot sessions and organize and paste these into your homework notebook (including link(s) to chat log histories if you're using ChatBot); but, if you're using the STA130 custom NBLM ChatBot, you'll only be able to ask for summaries, of course!_ \n",
    "    \n",
    "</details>\n"
   ]
  },
  {
   "cell_type": "code",
   "execution_count": null,
   "id": "66dd4227",
   "metadata": {},
   "outputs": [],
   "source": [
    "# \"Cond. No.\" WAS 343.0 WITHOUT to centering and scaling\n",
    "model3_fit.summary() "
   ]
  },
  {
   "cell_type": "code",
   "execution_count": null,
   "id": "dedf01b2",
   "metadata": {
    "scrolled": true
   },
   "outputs": [],
   "source": [
    "from patsy import center, scale\n",
    "\n",
    "model3_linear_form_center_scale = \\\n",
    "  'HP ~ scale(center(Attack)) + scale(center(Defense))' \n",
    "model_spec3_center_scale = smf.ols(formula=model3_linear_form_center_scale,\n",
    "                                   data=pokeaman_train)\n",
    "model3_center_scale_fit = model_spec3_center_scale.fit()\n",
    "model3_center_scale_fit.summary()\n",
    "# \"Cond. No.\" is NOW 1.66 due to centering and scaling"
   ]
  },
  {
   "cell_type": "code",
   "execution_count": null,
   "id": "8cb64e94",
   "metadata": {},
   "outputs": [],
   "source": [
    "model4_linear_form_CS = 'HP ~ scale(center(Attack)) * scale(center(Defense))'\n",
    "model4_linear_form_CS += ' * scale(center(Speed)) * Legendary' \n",
    "model4_linear_form_CS += ' * scale(center(Q(\"Sp. Def\"))) * scale(center(Q(\"Sp. Atk\")))'\n",
    "# Legendary is an indicator, so we don't center and scale that\n",
    "\n",
    "model4_CS_spec = smf.ols(formula=model4_linear_form_CS, data=pokeaman_train)\n",
    "model4_CS_fit = model4_CS_spec.fit()\n",
    "model4_CS_fit.summary().tables[-1]  # Cond. No. is 2,250,000,000,000,000\n",
    "\n",
    "# The condition number is still bad even after centering and scaling"
   ]
  },
  {
   "cell_type": "code",
   "execution_count": null,
   "id": "f5f19d12",
   "metadata": {},
   "outputs": [],
   "source": [
    "# Just as the condition number was very bad to start with\n",
    "model4_fit.summary().tables[-1]  # Cond. No. is 12,000,000,000,000,000\n"
   ]
  },
  {
   "cell_type": "markdown",
   "id": "4986452c",
   "metadata": {},
   "source": [
    "The condition number is the sensitivity of the systen to numerical errors or changes in the input, where a high condition number typically indicates a preoblem with mulicollinearity among the predictor variables. In contrast, centering the data makes it easier to interpret coefficients, especially when interactions are present, becuase it reduces the correlation between interaction terms and main effects. The other thing is that scaling puts all predictors on a similar scale, reducing the risk of one predictor that influencing the model due to large variance differences. However, this only indicates part of the problem, where it doesn't fix the correlation structure among predictors. On the other hand, as we can see the condition number for model4_CS_fitis is 2,250,000,000,000,000 indicating severe multicollinearity, because model4 linear form includes high-order interaction terms. when many interaction terms are included, which result to be highly correlated with each other and with the main effects. The other thing that it's about the effect on overfitting is that it might fit the data too closely, where the interaction and correlated predictors allow the model to pick up on \"noise\" rather than other patterns. That's why we use np.corrcoef(model4_spec.exog) in order to indicate a high correlation values that provide overlapping or useless information it also estimates the instability of coefficient because the model tries to attributre the outcome to correlated variabes that can be able to explain the same variation."
   ]
  },
  {
   "cell_type": "markdown",
   "id": "a577c7dd",
   "metadata": {},
   "source": [
    "### 7. Discuss with a ChatBot the rationale and principles by which *model5_linear_form* is  extended and developed from *model3_fit* and *model4_fit*; *model6_linear_form* is  extended and developed from *model5_linear_form*; and *model7_linear_form* is  extended and developed from *model6_linear_form*; then, explain this breifly and consisely in your own words<br>\n",
    "\n",
    "<details class=\"details-example\"><summary style=\"color:blue\"><u>Further Guidance</u></summary>\n",
    "\n",
    "> _We again include the **condition number** for the \"centered and scaled\" version of `model7_fit` to show that **multicollinearity** does not appear to be a major concern for this model (and the same would be true regarding `model6_fit` if the analogous \"centered and scaled\" version of the model was considered). While it is true that the **condition number** of `15.4` observed for `model7_fit` is perhaps \"large\", this would not be considered \"vary large\"._\n",
    ">\n",
    "> - _Regarding **condition numbers**, a ChatBot gave me cutoffs of `<30` not a big problem, up to `<300` maybe an issue, up to `<1000` definitely **multicollinearity**, and beyond that is pretty much likely to be \"serious\" problems with **multicollinearity**. Personally, cutoffs around `10`, `100`, and `1000` seem about right to me._\n",
    ">\n",
    "> _This question addresses the **model building** exercise using both an **evidence** based approach using **coefficient hypothesis testing** as well as examinations of **generalizability** using comparisions of \"in sample\" versus \"out of sample\" **model performance** metrics. Through these tools, different models were considered, extended, and developed, finally arriving at `model7_fit`. When we feel we can improve the **model performance** in a **generalizable** manner, then all relatively underperforming models are said to be **underfit**, meaning that they do not leverage all the **predictive associations** available to improve **predictions**._\n",
    "> \n",
    "> _While the previous \"Question 6\" above introduced and explored the impact of **multicollinearity** in the **multiple linear regression** context_ \n",
    ">     \n",
    "> - _(whereby \"the effects\" of multiple **predictor variables** are \"tangled up\" and therefore do not allow the model to reliably determine contribution attributions between the **predictor variables**, which potentially leads to poor **estimation** of their \"effects\" in the model, which in turn is the problematic state of affairs which leads to a lack of **generalizability** in such high **multicollinearity** settings)_\n",
    "> \n",
    "> _there is still the (actually even more important) consideration of the actual **evidence** of **predictive associations**. The question is whether or not there is sufficient **evidence** in the data backing up the **estimated** fit of the **linear form** specification. Quantifying the **evidence** for a **estimated** model is a separate question from the problem of **multicollinearity**, the assessment of which is actually the primary purpose of **multiple linear regression** methodology._\n",
    ">    \n",
    "> ---\n",
    "> \n",
    "> _Don't forget to ask for summaries of all your different ChatBot sessions and organize and paste these into your homework notebook (including link(s) to chat log histories if you're using ChatBot); but, if you're using the STA130 custom NBLM ChatBot, you'll only be able to ask for summaries, of course!_ \n",
    "    \n",
    "</details>    "
   ]
  },
  {
   "cell_type": "code",
   "execution_count": null,
   "id": "e5486d44",
   "metadata": {
    "scrolled": true
   },
   "outputs": [],
   "source": [
    "# Here's something a little more reasonable...\n",
    "model5_linear_form = 'HP ~ Attack + Defense + Speed + Legendary'\n",
    "model5_linear_form += ' + Q(\"Sp. Def\") + Q(\"Sp. Atk\")'\n",
    "model5_linear_form += ' + C(Generation) + C(Q(\"Type 1\")) + C(Q(\"Type 2\"))'\n",
    "\n",
    "model5_spec = smf.ols(formula=model5_linear_form, data=pokeaman_train)\n",
    "model5_fit = model5_spec.fit()\n",
    "model5_fit.summary()"
   ]
  },
  {
   "cell_type": "code",
   "execution_count": null,
   "id": "0a0dc7f1",
   "metadata": {},
   "outputs": [],
   "source": [
    "yhat_model5 = model5_fit.predict(pokeaman_test)\n",
    "y = pokeaman_test.HP\n",
    "print(\"'In sample' R-squared:    \", model5_fit.rsquared)\n",
    "print(\"'Out of sample' R-squared:\", np.corrcoef(y,yhat_model5)[0,1]**2)"
   ]
  },
  {
   "cell_type": "code",
   "execution_count": null,
   "id": "eea79d60",
   "metadata": {},
   "outputs": [],
   "source": [
    "# Here's something a little more reasonable...\n",
    "model6_linear_form = 'HP ~ Attack + Speed + Q(\"Sp. Def\") + Q(\"Sp. Atk\")'\n",
    "# And here we'll add the significant indicators from the previous model\n",
    "# https://chatgpt.com/share/81ab88df-4f07-49f9-a44a-de0cfd89c67c\n",
    "model6_linear_form += ' + I(Q(\"Type 1\")==\"Normal\")'\n",
    "model6_linear_form += ' + I(Q(\"Type 1\")==\"Water\")'\n",
    "model6_linear_form += ' + I(Generation==2)'\n",
    "model6_linear_form += ' + I(Generation==5)'\n",
    "\n",
    "model6_spec = smf.ols(formula=model6_linear_form, data=pokeaman_train)\n",
    "model6_fit = model6_spec.fit()\n",
    "model6_fit.summary()"
   ]
  },
  {
   "cell_type": "code",
   "execution_count": null,
   "id": "d91abe7f",
   "metadata": {},
   "outputs": [],
   "source": [
    "yhat_model6 = model6_fit.predict(pokeaman_test)\n",
    "y = pokeaman_test.HP\n",
    "print(\"'In sample' R-squared:    \", model6_fit.rsquared)\n",
    "print(\"'Out of sample' R-squared:\", np.corrcoef(y,yhat_model6)[0,1]**2)"
   ]
  },
  {
   "cell_type": "code",
   "execution_count": null,
   "id": "210a2353",
   "metadata": {},
   "outputs": [],
   "source": [
    "# And here's a slight change that seems to perhaps improve prediction...\n",
    "model7_linear_form = 'HP ~ Attack * Speed * Q(\"Sp. Def\") * Q(\"Sp. Atk\")'\n",
    "model7_linear_form += ' + I(Q(\"Type 1\")==\"Normal\")'\n",
    "model7_linear_form += ' + I(Q(\"Type 1\")==\"Water\")'\n",
    "model7_linear_form += ' + I(Generation==2)'\n",
    "model7_linear_form += ' + I(Generation==5)'\n",
    "\n",
    "model7_spec = smf.ols(formula=model7_linear_form, data=pokeaman_train)\n",
    "model7_fit = model7_spec.fit()\n",
    "model7_fit.summary()"
   ]
  },
  {
   "cell_type": "code",
   "execution_count": null,
   "id": "f3b677e4",
   "metadata": {},
   "outputs": [],
   "source": [
    "yhat_model7 = model7_fit.predict(pokeaman_test)\n",
    "y = pokeaman_test.HP\n",
    "print(\"'In sample' R-squared:    \", model7_fit.rsquared)\n",
    "print(\"'Out of sample' R-squared:\", np.corrcoef(y,yhat_model7)[0,1]**2)"
   ]
  },
  {
   "cell_type": "code",
   "execution_count": null,
   "id": "feeb1ab4",
   "metadata": {},
   "outputs": [],
   "source": [
    "# And here's a slight change that seems to perhas improve prediction...\n",
    "model7_linear_form_CS = 'HP ~ scale(center(Attack)) * scale(center(Speed))'\n",
    "model7_linear_form_CS += ' * scale(center(Q(\"Sp. Def\"))) * scale(center(Q(\"Sp. Atk\")))'\n",
    "# We DO NOT center and scale indicator variables\n",
    "model7_linear_form_CS += ' + I(Q(\"Type 1\")==\"Normal\")'\n",
    "model7_linear_form_CS += ' + I(Q(\"Type 1\")==\"Water\")'\n",
    "model7_linear_form_CS += ' + I(Generation==2)'\n",
    "model7_linear_form_CS += ' + I(Generation==5)'\n",
    "\n",
    "model7_CS_spec = smf.ols(formula=model7_linear_form_CS, data=pokeaman_train)\n",
    "model7_CS_fit = model7_CS_spec.fit()\n",
    "model7_CS_fit.summary().tables[-1] \n",
    "# \"Cond. No.\" is NOW 15.4 due to centering and scaling"
   ]
  },
  {
   "cell_type": "code",
   "execution_count": null,
   "id": "821a61e3",
   "metadata": {},
   "outputs": [],
   "source": [
    "# \"Cond. No.\" WAS 2,340,000,000 WITHOUT to centering and scaling\n",
    "model7_fit.summary().tables[-1]"
   ]
  },
  {
   "cell_type": "markdown",
   "id": "0a5dbb0a",
   "metadata": {},
   "source": [
    "For the fitted model3, it includes two continuous predictors which are attack and defense to predict HP. The linear form is that HP = B0 + B1 * attack + B2 * defense, it is to capture the basic linear relationships between HP and two key combat stats. For the fitted model4, it builds on model3_fit by interacting the addtional predictors, such as Speed and Legendary status, which count as special stats like Sp. Def and Sp. Atk, for the formula, the linear formula becomes much additions with B values while multiplying with different coefficients. For model5_linear_form, it is a refinedersion of the fitted model4, which includes more categorical predictors ike Generation or types, it is used to improve predictive accuracywhile managing overfitting. For the expansion from model5_linear_form to model6_linear_form, it extends by interteracting a breakdown od nteractions between key predictors, which it is even more interactions or complex terms involving categorical variables, carefully handling factors such as Generation or Type to balance complexity, this extension is to indicate the potential interactions among predictors that may have been overlooked. For the extension from model6_linear_form to model7_linear_form, it is the most developed and extending, it is formed by including all meaningful interactions between continuous and categorical variables, but without overwhelming the model, it provides a comprehensive model that accounts for complex relationship between combat stats and other factors while minimizing several concerns, as evidenced by the acceptable condition number. On the other hand, the condition number is a kind of multicollinearity, with smaller values which indicating less collinearity among predictors. For instance, model7_fit provides a condition number of 15.4 which ondicates that the multicollinearity is present but not severe. Moreover, the format of the condition numbers is the same as the condition numbers, where \n",
    "< 10: Minimal multicollinearity (ideal).\n",
    "10 to 30: Mild to moderate, often manageable.\n",
    "30 to 300: May indicate an issue; further investigation warranted. > 300: Likely severe multicollinearity, significant concerns."
   ]
  },
  {
   "cell_type": "markdown",
   "id": "1bbbf01d",
   "metadata": {},
   "source": [
    "### 8. Work with a ChatBot to write a *for* loop to create, collect, and visualize many different paired \"in sample\" and \"out of sample\" *model performance* metric actualizations (by not using *np.random.seed(130)* within each loop iteration); and explain in your own words the meaning of your results and purpose of this demonstration<br>\n",
    "\n",
    "<details class=\"details-example\"><summary style=\"color:blue\"><u>Further Guidance</u></summary>\n",
    "    \n",
    "> _The following code could likely be slightly edited and repurposed to match the 50-50 **train-test split** analysis and data above (in the `train_test_split` method of \"Question 5\").  Considering the behavior of the `model3_fit` **linear form** specification would be the suggested way to start, but it might also be interesting and/or helpful to consider the different available **linear form** specifications in the manner of this problem..._\n",
    ">    \n",
    "> ```python\n",
    "> import plotly.express as px  # etc.\n",
    ">\n",
    "> songs_training_data,songs_testing_data = train_test_split(songs, train_size=31)\n",
    "> linear_form = 'danceability ~ energy * loudness + energy * mode'\n",
    ">    \n",
    "> reps = 100\n",
    "> in_sample_Rsquared = np.array([0.0]*reps)\n",
    "> out_of_sample_Rsquared = np.array([0.0]*reps)\n",
    "> for i in range(reps):\n",
    ">     songs_training_data,songs_testing_data = \\\n",
    ">       train_test_split(songs, train_size=31)\n",
    ">     final_model_fit = smf.ols(formula=linear_form, \n",
    ">                               data=songs_training_data).fit()\n",
    ">     in_sample_Rsquared[i] = final_model_fit.rsquared\n",
    ">     out_of_sample_Rsquared[i] = \\\n",
    ">       np.corrcoef(songs_testing_data.danceability, \n",
    ">                   final_model_fit.predict(songs_testing_data))[0,1]**2\n",
    ">     \n",
    "> df = pd.DataFrame({\"In Sample Performance (Rsquared)\": in_sample_Rsquared,\n",
    ">                    \"Out of Sample Performance (Rsquared)\": out_of_sample_Rsquared})   >  \n",
    "> fig = px.scatter(df, x=\"In Sample Performance (Rsquared)\", \n",
    ">                      y=\"Out of Sample Performance (Rsquared)\")\n",
    "> fig.add_trace(go.Scatter(x=[0,1], y=[0,1], name=\"y=x\", line_shape='linear'))  \n",
    "> ```\n",
    ">\n",
    "> _When you first look at this question, you might be unsure about the specific issue that the code is addressing. Take a moment to think about why the code repeatedly randomly re-splits the data, fits the model, and compares the \"in sample\" versus \"out of sample\" **R-squared** values (over and over). Of course, if a **fit model** performs well on the **training** dataset but doesn't do as well on the **testing** dataset then we might be observing the affects of **overfitting**. But why might it sometimes be the opposite situation (which we actually encountered right away for `model3_fit` when the **train-test split** was based on  `np.random.seed(130)` and resulted in a better \"out of sample\" **R-squared** of about `0.21` vereses the 'in-sample\" **R-squared** of about `0.15`)? If you're thinking that this should therefore vice-versa intuitively mean **underfitting**, actually that's not right because **underfitting** is when the **generalizability** of a different model **linear form** specification that provides improved **model performance** is **validated**. What were seeing here, the variable, is something else..._\n",
    ">        \n",
    "> ---\n",
    "> \n",
    "> _Don't forget to ask for summaries of all your different ChatBot sessions and organize and paste these into your homework notebook (including link(s) to chat log histories if you're using ChatBot) But if you're using the STA130 custom NBLM ChatBot, you'll only be able to ask for summaries, of course!_ \n",
    "    \n",
    "</details>\n",
    "    "
   ]
  },
  {
   "cell_type": "code",
   "execution_count": null,
   "id": "244f9c3d",
   "metadata": {},
   "outputs": [],
   "source": [
    "import numpy as np\n",
    "import pandas as pd\n",
    "import statsmodels.formula.api as smf\n",
    "import plotly.express as px\n",
    "import plotly.graph_objects as go\n",
    "from sklearn.model_selection import train_test_split\n",
    "\n",
    "# Variables to store results\n",
    "reps = 100\n",
    "in_sample_Rsquared = np.array([0.0] * reps)\n",
    "out_of_sample_Rsquared = np.array([0.0] * reps)\n",
    "\n",
    "# Define model formula for \"model3_fit\"\n",
    "model_spec = 'HP ~ Attack + Defense'\n",
    "\n",
    "# Loop through the specified number of repetitions\n",
    "for i in range(reps):\n",
    "    # Split dataset into 50-50 train-test split\n",
    "    pokeaman_train, pokeaman_test = train_test_split(pokeaman, train_size=0.5)\n",
    "    \n",
    "    # Fit the model on the training data\n",
    "    model_fit = smf.ols(formula=model_spec, data=pokeaman_train).fit()\n",
    "    \n",
    "    # Store in-sample R-squared\n",
    "    in_sample_Rsquared[i] = model_fit.rsquared\n",
    "    \n",
    "    # Calculate predictions and store out-of-sample R-squared\n",
    "    y = pokeaman_test['HP']\n",
    "    yhat = model_fit.predict(pokeaman_test)\n",
    "    out_of_sample_Rsquared[i] = np.corrcoef(y, yhat)[0, 1] ** 2\n",
    "\n",
    "# Create a DataFrame for visualization\n",
    "df = pd.DataFrame({\n",
    "    \"In Sample Performance (R-squared)\": in_sample_Rsquared,\n",
    "    \"Out of Sample Performance (R-squared)\": out_of_sample_Rsquared\n",
    "})\n",
    "\n",
    "# Plot the results using Plotly\n",
    "fig = px.scatter(df, \n",
    "                 x=\"In Sample Performance (R-squared)\", \n",
    "                 y=\"Out of Sample Performance (R-squared)\",\n",
    "                 title=\"In-Sample vs Out-of-Sample R-squared Performance\",\n",
    "                 labels={\"x\": \"In-Sample R-squared\", \"y\": \"Out-of-Sample R-squared\"})\n",
    "\n",
    "# Add y=x line for comparison\n",
    "fig.add_trace(go.Scatter(x=[0, 1], y=[0, 1], \n",
    "                         mode=\"lines\", \n",
    "                         name=\"y = x\", \n",
    "                         line=dict(color=\"red\", dash=\"dash\")))\n",
    "\n",
    "# Display the plot\n",
    "fig.show()\n"
   ]
  },
  {
   "cell_type": "markdown",
   "id": "7dcac777",
   "metadata": {},
   "source": [
    "As we can see from the model that is the training subset is more variable, the model may find it difficult to fit the training data well. This would lead to a lower in-sample R-squared. However, the testing subset might be less variable or align better with the fitted model, resulting in a higher out-of-sample R-squared. Also, its easier to predict by using the testing subset, the testing subset could be less complex, which making it easier for the model to predict accurately, even if it struggled with more variable training set. Meanwhile, it seems to be a type of sampling variation, where it might generate a testing subset that is more predictable because it contains observations that lie closer to the expected linear relationship. On the other hand, the question mentioned about underlifting isn't apply for this situation, because underfitting suggests a model specification issue, where the chosen predictors or linear form are insufficient to capture the underlying relationship in the data. The model would generally perform poorly both in-sample and out-of-sample. However, the model form itself is not in question. Instead, it's the random sample split that has resulted in a misleading comparison between in-sample and out-of-sample performance."
   ]
  },
  {
   "cell_type": "markdown",
   "id": "6c0145e1",
   "metadata": {},
   "source": [
    "### 9. Work with a ChatBot to understand the meaning of the illustration below; and, explain this in your own words<br>\n",
    "\n",
    "<details class=\"details-example\"><summary style=\"color:blue\"><u>Further Guidance</u></summary>\n",
    "\n",
    "> _While we had seemed to **validate** the **generalizability** of `model7_fit` in **model building** exercise of the previous \"Question 7\" above, as well as the improved **model performance** of `model7_fit` comapred to `model6_fit`, the `model7_fit` model was always nonetheless more complex than `model6_fit` model (as seen by comparing their `.summary()` methods). This complexity, despite the minimal concerns regarding **multicollinearity**, should always have suggested some room for caution. This is because, as previously discussed in \"Question 6\" above, a complex **linear form** specification can allow a \"**model fit** to 'detect' idiosyncratic associations spuriously present specifically in the **training** dataset but which did not **generalize** to the **testing** dataset.\" Indeed, a close look at the **p-values** in `model7_fit.summary()` will show that the **evidence** (in the data) for many of the **estimated coefficients** of `model7_fit` is in fact not very strong. In comparision, the **evidence** (in the data) for many of the **estimated coefficients** of `model6_fit.summary()` is consistently stronger._\n",
    ">\n",
    "> _As discussed towards the end of the commentary in the previous \"Question 7\" above, the primary purpose of **multiple linear regression** methodology is to allow us to assess the **evidence** (in the data) for a given **linear form** specification based on **coefficient hypothesis testing**. In this regard, then, `model6_fit` might be preferred over `model7_fit` despite the better \"out of sample\" **model performance** of `model7_fit` over `model6_fit`. This may not be enough to convince everyone however, so an additional consideration that might be made here is that the more simpler (more parsimoneous) nature of `model6_fit` should be preferred over `model7_fit` from the perspective of **model interpretability**. Indeed, it is quite unclear how exactly one should think about and understand a four-way **interaction** variable such as `Attack:Speed:Q(\"Sp. Def\"):Q(\"Sp. Atk\")` in conjunction with the whole host of the additional lower order interations. From a **model interpretability** perspective, understanding the meaning of the complex specification of `model7_fit` is \"challenging\" and \"complicated\" to say the least._\n",
    ">\n",
    "> - _There are also often circumstances where **model interpretability** can be MORE IMPORTANT than raw **model performance** in \"out of sample\" **prediction**._\n",
    "> - _This is ESPECIALLY true if **predictive model performance** is relatively comparable between models of two different complexity levels. In such cases, the benefits of better **model interpretability** might provide a clear argument for the simpler (more parsimoneous) model, not to mention the additional potential benefit of more consistent improved **generalizability** over the the more complex model this might offer._\n",
    ">\n",
    "> _This question drives home the point that a simpler (more parsimoneous) model always offers the potential benefit of more consistent **generalizability**, not to mention **interpretability**, over more complex models. We should *ONLY* use increasingly complex models that without questions outperfrm simler models. The code below illustrates this by further additionally raising the consideration that the random **train-test** approach used above is actually not the most natural one available for our dataset, which has different \"Generations\". In fact, if we were actually using this model to make **predictions**, we would increasingly acquire more data over time which we would use to make **precictions** about future data which we haven't yet seen, which is what the code demonstrates. And low and behold, this exposes **generalizability** concerns that we missed when we used the dataset in an idealized way and not actually how we would use such a dataset in practice in the real world (where data would arrive sequentially, and current data is used to predict future data). These **generalizability** concerns do affect both models, but the appear to be more problematic for `model7_fit` than `model6_fit`, which is certainly a result of the increased complexity of `model7_fit` which always opens up the possibility of model **overfitting**._\n",
    "\n",
    "<details>    "
   ]
  },
  {
   "cell_type": "code",
   "execution_count": null,
   "id": "41d57caf",
   "metadata": {},
   "outputs": [],
   "source": [
    "model7_gen1_predict_future = smf.ols(formula=model7_linear_form,\n",
    "                                   data=pokeaman[pokeaman.Generation==1])\n",
    "model7_gen1_predict_future_fit = model7_gen1_predict_future.fit()\n",
    "print(\"'In sample' R-squared:    \", model7_fit.rsquared, \"(original)\")\n",
    "y = pokeaman_test.HP\n",
    "print(\"'Out of sample' R-squared:\", np.corrcoef(y,yhat_model7)[0,1]**2, \"(original)\")\n",
    "print(\"'In sample' R-squared:    \", model7_gen1_predict_future_fit.rsquared, \"(gen1_predict_future)\")\n",
    "y = pokeaman[pokeaman.Generation!=1].HP\n",
    "yhat = model7_gen1_predict_future_fit.predict(pokeaman[pokeaman.Generation!=1])\n",
    "print(\"'Out of sample' R-squared:\", np.corrcoef(y,yhat)[0,1]**2, \"(gen1_predict_future)\")"
   ]
  },
  {
   "cell_type": "markdown",
   "id": "54788824",
   "metadata": {},
   "source": [
    "This code is to evaluate temporal generalizability. It simulates a scenario where a model trained on historical data is used to predict future or unseen data, which is similar to testing whether knowledge from an older time period can predict outcomes in a newer context. it addresses whether a model built on older data remains applicable as new data becomes available. It reflects a common scenario in data analysis where models are trained on past data and expected to predict future observations effectively."
   ]
  },
  {
   "cell_type": "code",
   "execution_count": null,
   "id": "628daf99",
   "metadata": {},
   "outputs": [],
   "source": [
    "model7_gen1to5_predict_future = smf.ols(formula=model7_linear_form,\n",
    "                                   data=pokeaman[pokeaman.Generation!=6])\n",
    "model7_gen1to5_predict_future_fit = model7_gen1to5_predict_future.fit()\n",
    "print(\"'In sample' R-squared:    \", model7_fit.rsquared, \"(original)\")\n",
    "y = pokeaman_test.HP\n",
    "print(\"'Out of sample' R-squared:\", np.corrcoef(y,yhat_model7)[0,1]**2, \"(original)\")\n",
    "print(\"'In sample' R-squared:    \", model7_gen1to5_predict_future_fit.rsquared, \"(gen1to5_predict_future)\")\n",
    "y = pokeaman[pokeaman.Generation==6].HP\n",
    "yhat = model7_gen1to5_predict_future_fit.predict(pokeaman[pokeaman.Generation==6])\n",
    "print(\"'Out of sample' R-squared:\", np.corrcoef(y,yhat)[0,1]**2, \"(gen1to5_predict_future)\")"
   ]
  },
  {
   "cell_type": "markdown",
   "id": "2bbd15c7",
   "metadata": {},
   "source": [
    "The code is to understand how the model's predictive performance changes when trained on a larger, broader historical dataset and applied to new, unseen data, which tests the model's ability to capture a stable relationship between predictors and HP across multiple generations, evaluating whether this relationship holds true for future unseen generations. The code helps illustrate how including a broader historical dataset can affect the generalizability and predictive accuracy of the model when applied to future datasets."
   ]
  },
  {
   "cell_type": "code",
   "execution_count": null,
   "id": "1c52c848",
   "metadata": {},
   "outputs": [],
   "source": [
    "model6_gen1_predict_future = smf.ols(formula=model6_linear_form,\n",
    "                                   data=pokeaman[pokeaman.Generation==1])\n",
    "model6_gen1_predict_future_fit = model6_gen1_predict_future.fit()\n",
    "print(\"'In sample' R-squared:    \", model6_fit.rsquared, \"(original)\")\n",
    "y = pokeaman_test.HP\n",
    "print(\"'Out of sample' R-squared:\", np.corrcoef(y,yhat_model6)[0,1]**2, \"(original)\")\n",
    "print(\"'In sample' R-squared:    \", model6_gen1_predict_future_fit.rsquared, \"(gen1_predict_future)\")\n",
    "y = pokeaman[pokeaman.Generation!=1].HP\n",
    "yhat = model6_gen1_predict_future_fit.predict(pokeaman[pokeaman.Generation!=1])\n",
    "print(\"'Out of sample' R-squared:\", np.corrcoef(y,yhat)[0,1]**2, \"(gen1_predict_future)\")"
   ]
  },
  {
   "cell_type": "markdown",
   "id": "ba39525a",
   "metadata": {},
   "source": [
    "The code is to test the temporal generalizability of a model trained on early Pokémon data. It retrieves and prints the \"in-sample\" R-squared value of the original model that was trained on the 50-50 split, the \"out-of-sample\" R-squared value checks the performance of the original model on pokeaman_test, which these values provide a baseline comparison for assessing the predictive power of the model trained solely on Generation 1, where the values show how well a model trained on historical data (Generation 1) generalizes to newer generations."
   ]
  },
  {
   "cell_type": "code",
   "execution_count": null,
   "id": "6ea14cd8",
   "metadata": {},
   "outputs": [],
   "source": [
    "model6_gen1to5_predict_future = smf.ols(formula=model6_linear_form,\n",
    "                                   data=pokeaman[pokeaman.Generation!=6])\n",
    "model6_gen1to5_predict_future_fit = model6_gen1to5_predict_future.fit()\n",
    "print(\"'In sample' R-squared:    \", model6_fit.rsquared, \"(original)\")\n",
    "y = pokeaman_test.HP\n",
    "print(\"'Out of sample' R-squared:\", np.corrcoef(y,yhat_model6)[0,1]**2, \"(original)\")\n",
    "print(\"'In sample' R-squared:    \", model6_gen1to5_predict_future_fit.rsquared, \"(gen1to5_predict_future)\")\n",
    "y = pokeaman[pokeaman.Generation==6].HP\n",
    "yhat = model6_gen1to5_predict_future_fit.predict(pokeaman[pokeaman.Generation==6])\n",
    "print(\"'Out of sample' R-squared:\", np.corrcoef(y,yhat)[0,1]**2, \"(gen1to5_predict_future)\")"
   ]
  },
  {
   "cell_type": "markdown",
   "id": "b3d0169b",
   "metadata": {},
   "source": [
    "The code specifies and fits model6 using all Pokémon data excluding generation 6, where the fitted model captures the relationship between predictors and HP using Pokémon from generations 1 to 5. Also, it returns the \"in-sample\" R-squared value and the \"out-of-sample\" R-squared value to show the performance of the original model on the test set, serving as a baseline comparison. Finally, it computes the \"out-of-sample\" R-squared by predicting the HP for Pokémon from Generation 6 using the model trained on generations 1 to 5. It shows how well a model trained on past generations generalizes to the latest generation. The results can determine if the historical data relationships remain consistent or if new patterns intercept in the latest Pokémon generation that the model cannot capture, highlighting potential shifts in the underlying data-generating process."
   ]
  },
  {
   "cell_type": "markdown",
   "id": "992924af",
   "metadata": {},
   "source": [
    "## Recommended Additional Useful Activities [Optional]\n",
    "\n",
    "The \"Ethical Profesionalism Considerations\" and \"Current Course Project Capability Level\" sections below **are not a part of the required homework assignment**; rather, they are regular weekly guides covering (a) relevant considerations regarding professional and ethical conduct, and (b) the analysis steps for the STA130 course project that are feasible at the current stage of the course\n",
    "\n",
    "<br>\n",
    "<details class=\"details-example\"><summary style=\"color:blue\"><u>Ethical Professionalism Considerations</u></summary>\n",
    "\n",
    "### Ethical Professionalism Considerations\n",
    "\n",
    "This week addresses **multiple linear regression**, perhaps best exemplified through the consideration on **interactions** and their impact on the **model interpretation**, **evidence** and **validity* of models using **coefficient hypothesis testing** and \"in sample\" versus \"out of sample\" **model performance** comparision. Exactly, as in **simple linear regression**, the correctness of **p-values** used to give **evidence** for **predictive associations** that are **estimated** from a dataset depends on the (at least approximate) \"truth\" of the assumptions of the **multiple linear regression**, which are the same as those of the **simple linear regression** with the exception that the specification **linear form** can now model a much richer set of relationships between **predictor** and **outcome variables** based on **predictive associations** observed and **evidenced** in the data. With all this in mind, and reflecting back on the **Ethical Professionalism Considerations** from the previous week concerning **simple linear regression**...\n",
    "\n",
    "> - Which of the methods used for diagnostically assessing the assumptions of a **simple linear regression** specification could be used analogously generalized to the **multiple linear regression** context for the same purpose? \n",
    "> \n",
    "> - Examining the assumption of the **linear form** is more challenging in **multiple linear context**, but can be done using so-called **partial regression** (or **added variable**) **plot**. Is a ChatBot able to provide code to perform this diagnostic and instructions regarding its purpose, interpretation, and appropriate usage?\n",
    ">     \n",
    "> - Are there other diagnostic analyses that a ChatBot might suggest for you to help you evaluate the appropriateness of the assumptions of **fitted multiple linear regression model** you are considering using for **interpretation** or **prediction**? And if so, s the ChatBot able to provide code to perform these additional diagnostic and instructions regarding their purpose, interpretation, and appropriate usages?\n",
    ">     \n",
    "> - What do you think your ethical and professional responsibilites are when it comes to using and leveraging **multiple linear regression** methodology (and associated assumptions therein) in your work? To illustrate and demonstrate your thoughts on these considerations, can you give any specific examples of decisions that might be made during your process of executing a **multiple linear regression** that could have ethical and professional implications, risks, or consequences? What do you think are the simplest steps can you take to ensure that the conclusions of your work are both valid and reliable? What steps do you think are the most challenging from a practical perspective? \n",
    "\n",
    "</details>\n",
    "\n",
    "<details class=\"details-example\"><summary style=\"color:blue\"><u>Current Course Project Capability Level</u></summary>\n",
    "\n",
    "**Remember to abide by the [data use agreement](https://static1.squarespace.com/static/60283c2e174c122f8ebe0f39/t/6239c284d610f76fed5a2e69/1647952517436/Data+Use+Agreement+for+the+Canadian+Social+Connection+Survey.pdf) at all times.**\n",
    "\n",
    "Information about the course project is available on the course github repo [here](https://github.com/pointOfive/stat130chat130/tree/main/CP), including a draft [course project specfication](https://github.com/pointOfive/stat130chat130/blob/main/CP/STA130F23_course_project_specification.ipynb) (subject to change). \n",
    "- The Week 01 HW introduced [STA130F24_CourseProject.ipynb](https://github.com/pointOfive/stat130chat130/blob/main/CP/STA130F24_CourseProject.ipynb), and the [available variables](https://drive.google.com/file/d/1ISVymGn-WR1lcRs4psIym2N3or5onNBi/view). \n",
    "- Please do not download the [data](https://drive.google.com/file/d/1mbUQlMTrNYA7Ly5eImVRBn16Ehy9Lggo/view) accessible at the bottom of the [CSCS](https://casch.org/cscs) webpage (or the course github repo) multiple times.\n",
    "    \n",
    "> ### NEW DEVELOPMENT<br>New Abilities Achieved and New Levels Unlocked!!!    \n",
    "> \n",
    "> \"Question 3\" as described below only addresses **multiple linear regression**... but you'll also perhaps notice that \"Question 3\" as described above extends this to address addresses **logistic regression**.\n",
    "    \n",
    "### Current Course Project Capability Level \n",
    "    \n",
    "This homework's \"Question 3\" introduced the idea of performing some **multiple linear regression** analyses on dataset from the Canadian Social Connection Survey. While other questions of this homework focussed on other datasets, the general analyses and principles they introduce are no doubt informative and applicable to this the dataset for our course project. Ideally, this should put you in a position to quite proficiently perform **multiple linear regression** analyses for the course project if you so desire and find appropriate for the objectives of you course project submission. Thus, the following (and more) should be possible at this stage... \n",
    "\n",
    "1. Select multiple **predictors predictor** from the Canadian Social Connection Survey data and examine how they jointly influence an outcome variable, paying special attention to the inclusion and interpretation of **categorical** and **indicator variables** and **interactions** (in terms of \"baseline\" reference groups and \"contrast\" or \"offsets\").\n",
    "\n",
    "2. Visualize different kinds of **predictive association** relationships, including **interactions** and relationship between **predictor** and the **outcome** variables that change across different levels of other **categorical** or **indicator predictor variables**, using tools like `plotly.express`.\n",
    "\n",
    "3. Use **coefficient hypothesis testing** and \"in sample\" versus \"out of sample\" **model performance** evaluation to perform **model building** and examine **generalizability** of **fitted models**.\n",
    "       \n",
    "4. Assess the presence of **multicollinearity** by considering the **condition numbers** of **fitted models** (with \"centering and scaling\") and their subsequent potential implications on **generalizability** of **fitted models**; and, perhaps even examine **pairwise correlation** and/or **variance inflation factors** for each **predictor variable** if you're feeling extra ambitious and want to go well \"above and beyond\" (in which case you could also consider the relationship between **multicollinearity** and why one level of a **categorical** variable is always omitted).\n",
    "\n",
    "5. Compare and contrast such analyses and their benefits with previous methodologies introduced and considered in the course.\n",
    "    \n",
    "6. Explore using model diagnostic to check assess the assumptions of your **multiple linear regression** analyses, and reflect on how failurse of these assumptions might impact the reliability of your findings and conlusions derived from your **fitted model**.\n",
    "\n",
    "</details>\n"
   ]
  }
 ],
 "metadata": {
  "kernelspec": {
   "display_name": "Python 3 (ipykernel)",
   "language": "python",
   "name": "python3"
  },
  "language_info": {
   "codemirror_mode": {
    "name": "ipython",
    "version": 3
   },
   "file_extension": ".py",
   "mimetype": "text/x-python",
   "name": "python",
   "nbconvert_exporter": "python",
   "pygments_lexer": "ipython3",
   "version": "3.11.6"
  }
 },
 "nbformat": 4,
 "nbformat_minor": 5
}
